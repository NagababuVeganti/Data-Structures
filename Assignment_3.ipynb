{
  "cells": [
    {
      "cell_type": "markdown",
      "metadata": {
        "id": "view-in-github",
        "colab_type": "text"
      },
      "source": [
        "<a href=\"https://colab.research.google.com/github/NagababuVeganti/Data-Structures/blob/main/Assignment_3.ipynb\" target=\"_parent\"><img src=\"https://colab.research.google.com/assets/colab-badge.svg\" alt=\"Open In Colab\"/></a>"
      ]
    },
    {
      "cell_type": "markdown",
      "metadata": {
        "id": "EPC-9Qh4oUDY"
      },
      "source": [
        "# Assignment 3"
      ]
    },
    {
      "cell_type": "markdown",
      "metadata": {
        "id": "EabSaI_4oUDZ"
      },
      "source": [
        "In this assignment, we will focus on healthcare. This data set is made available by MIT. It contains data about 9,026 heartbeat measurements. Each row represents a single measurement (captured on a timeline). There are a total of 80 data points (columns). This is a multiclass classification task: predict whether the measurement represents a normal heartbeat or other anomalies. "
      ]
    },
    {
      "cell_type": "markdown",
      "metadata": {
        "id": "Lkq81suqoUDZ"
      },
      "source": [
        "## Description of Variables\n",
        "\n",
        "You will use the **hearbeat_cleaned.csv** data set for this assignment. Each row represents a single measurement. Columns labeled as T1 from T80 are the time steps on the timeline (there are 80 time steps, each time step has only one measurement). \n",
        "\n",
        "The last column is the target variable. It shows the label (category) of the measurement as follows:<br>\n",
        "0 = Normal<br>\n",
        "1 = Supraventricular premature beat<br>\n",
        "2 = Premature ventricular contraction<br>\n",
        "3 = Fusion of ventricular and normal beat<br>\n",
        "4 = Unclassifiable beat"
      ]
    },
    {
      "cell_type": "markdown",
      "metadata": {
        "id": "IRgbnhxvoUDa"
      },
      "source": [
        "## Goal\n",
        "\n",
        "Use the data set **hearbeat_cleaned.csv** to predict the column called **Target**. The input variables are columns labeled as **T1 to T80**. "
      ]
    },
    {
      "cell_type": "markdown",
      "metadata": {
        "id": "Pu6OrAMBoUDa"
      },
      "source": [
        "## Submission:\n",
        "\n",
        "Please save and submit this Jupyter notebook file. The correctness of the code matters for your grade. **Readability and organization of your code is also important.** You may lose points for submitting unreadable/undecipherable code. Therefore, use markdown cells to create sections, and use comments where necessary.\n"
      ]
    },
    {
      "cell_type": "markdown",
      "metadata": {
        "id": "EP5Uo2MToUDa"
      },
      "source": [
        "# Note:\n",
        "\n",
        "The data is cleaned up. There are no unqueal length sequences. And, there is no zero padding. So, you shouldn't use any `Masking` layer (like I mentioned in the lecture). "
      ]
    },
    {
      "cell_type": "markdown",
      "metadata": {
        "id": "MCYW5pj1oUDa"
      },
      "source": [
        "# Read and Prepare the Data (1 points)"
      ]
    },
    {
      "cell_type": "code",
      "execution_count": null,
      "metadata": {
        "id": "UqFjp0B2oUDa"
      },
      "outputs": [],
      "source": [
        "# Insert as many cells as you need for data prep"
      ]
    },
    {
      "cell_type": "markdown",
      "source": [
        "# **Common Imports**"
      ],
      "metadata": {
        "id": "sRecgWIwyWGJ"
      }
    },
    {
      "cell_type": "code",
      "execution_count": 1,
      "metadata": {
        "id": "Cy3y9kofoUDa"
      },
      "outputs": [],
      "source": [
        "import numpy as np\n",
        "import pandas as pd \n",
        "import keras\n",
        "import tensorflow as tf\n",
        "np.random.seed(46046025)"
      ]
    },
    {
      "cell_type": "code",
      "execution_count": 1,
      "metadata": {
        "id": "Al273ZukoUDb"
      },
      "outputs": [],
      "source": [
        ""
      ]
    },
    {
      "cell_type": "markdown",
      "source": [
        "## **Reading Data**"
      ],
      "metadata": {
        "id": "FQG0M4jfy1Nz"
      }
    },
    {
      "cell_type": "code",
      "source": [
        "data= pd.read_csv('heartbeat_cleaned.csv',index_col=0)"
      ],
      "metadata": {
        "id": "sQbam8LIy4TK"
      },
      "execution_count": 2,
      "outputs": []
    },
    {
      "cell_type": "code",
      "source": [
        "data.head()"
      ],
      "metadata": {
        "colab": {
          "base_uri": "https://localhost:8080/",
          "height": 299
        },
        "id": "9oSpXQT0y4gr",
        "outputId": "8417b51f-647f-4850-a397-c7873f810775"
      },
      "execution_count": 3,
      "outputs": [
        {
          "output_type": "execute_result",
          "data": {
            "text/plain": [
              "      T1     T2     T3      T4      T5      T6      T7      T8      T9  \\\n",
              "0  0.987  0.892  0.461  0.1130  0.1490  0.1900  0.1650  0.1620  0.1470   \n",
              "1  1.000  0.918  0.621  0.1330  0.1050  0.1250  0.1170  0.0898  0.0703   \n",
              "2  1.000  0.751  0.143  0.1040  0.0961  0.0519  0.0442  0.0416  0.0364   \n",
              "3  1.000  0.740  0.235  0.0464  0.0722  0.0567  0.0103  0.0155  0.0284   \n",
              "4  1.000  0.833  0.309  0.0191  0.1010  0.1200  0.1040  0.0874  0.0765   \n",
              "\n",
              "      T10  ...     T72     T73     T74     T75    T76     T77     T78    T79  \\\n",
              "0  0.1380  ...  0.1970  0.1970  0.1960  0.2030  0.201  0.1990  0.2010  0.205   \n",
              "1  0.0781  ...  0.1950  0.1910  0.1520  0.1720  0.207  0.2110  0.2070  0.207   \n",
              "2  0.0857  ...  0.2260  0.2420  0.2440  0.2860  0.468  0.8160  0.9770  0.452   \n",
              "3  0.0155  ...  0.0851  0.0747  0.0515  0.0593  0.067  0.0361  0.1210  0.451   \n",
              "4  0.0765  ...  0.2050  0.4210  0.8030  0.9510  0.467  0.0000  0.0519  0.082   \n",
              "\n",
              "      T80  Target  \n",
              "0  0.2080     0.0  \n",
              "1  0.1720     0.0  \n",
              "2  0.0519     0.0  \n",
              "3  0.8690     0.0  \n",
              "4  0.0628     0.0  \n",
              "\n",
              "[5 rows x 81 columns]"
            ],
            "text/html": [
              "\n",
              "  <div id=\"df-05413f6f-f531-40a5-93f2-f5cd7f64110e\">\n",
              "    <div class=\"colab-df-container\">\n",
              "      <div>\n",
              "<style scoped>\n",
              "    .dataframe tbody tr th:only-of-type {\n",
              "        vertical-align: middle;\n",
              "    }\n",
              "\n",
              "    .dataframe tbody tr th {\n",
              "        vertical-align: top;\n",
              "    }\n",
              "\n",
              "    .dataframe thead th {\n",
              "        text-align: right;\n",
              "    }\n",
              "</style>\n",
              "<table border=\"1\" class=\"dataframe\">\n",
              "  <thead>\n",
              "    <tr style=\"text-align: right;\">\n",
              "      <th></th>\n",
              "      <th>T1</th>\n",
              "      <th>T2</th>\n",
              "      <th>T3</th>\n",
              "      <th>T4</th>\n",
              "      <th>T5</th>\n",
              "      <th>T6</th>\n",
              "      <th>T7</th>\n",
              "      <th>T8</th>\n",
              "      <th>T9</th>\n",
              "      <th>T10</th>\n",
              "      <th>...</th>\n",
              "      <th>T72</th>\n",
              "      <th>T73</th>\n",
              "      <th>T74</th>\n",
              "      <th>T75</th>\n",
              "      <th>T76</th>\n",
              "      <th>T77</th>\n",
              "      <th>T78</th>\n",
              "      <th>T79</th>\n",
              "      <th>T80</th>\n",
              "      <th>Target</th>\n",
              "    </tr>\n",
              "  </thead>\n",
              "  <tbody>\n",
              "    <tr>\n",
              "      <th>0</th>\n",
              "      <td>0.987</td>\n",
              "      <td>0.892</td>\n",
              "      <td>0.461</td>\n",
              "      <td>0.1130</td>\n",
              "      <td>0.1490</td>\n",
              "      <td>0.1900</td>\n",
              "      <td>0.1650</td>\n",
              "      <td>0.1620</td>\n",
              "      <td>0.1470</td>\n",
              "      <td>0.1380</td>\n",
              "      <td>...</td>\n",
              "      <td>0.1970</td>\n",
              "      <td>0.1970</td>\n",
              "      <td>0.1960</td>\n",
              "      <td>0.2030</td>\n",
              "      <td>0.201</td>\n",
              "      <td>0.1990</td>\n",
              "      <td>0.2010</td>\n",
              "      <td>0.205</td>\n",
              "      <td>0.2080</td>\n",
              "      <td>0.0</td>\n",
              "    </tr>\n",
              "    <tr>\n",
              "      <th>1</th>\n",
              "      <td>1.000</td>\n",
              "      <td>0.918</td>\n",
              "      <td>0.621</td>\n",
              "      <td>0.1330</td>\n",
              "      <td>0.1050</td>\n",
              "      <td>0.1250</td>\n",
              "      <td>0.1170</td>\n",
              "      <td>0.0898</td>\n",
              "      <td>0.0703</td>\n",
              "      <td>0.0781</td>\n",
              "      <td>...</td>\n",
              "      <td>0.1950</td>\n",
              "      <td>0.1910</td>\n",
              "      <td>0.1520</td>\n",
              "      <td>0.1720</td>\n",
              "      <td>0.207</td>\n",
              "      <td>0.2110</td>\n",
              "      <td>0.2070</td>\n",
              "      <td>0.207</td>\n",
              "      <td>0.1720</td>\n",
              "      <td>0.0</td>\n",
              "    </tr>\n",
              "    <tr>\n",
              "      <th>2</th>\n",
              "      <td>1.000</td>\n",
              "      <td>0.751</td>\n",
              "      <td>0.143</td>\n",
              "      <td>0.1040</td>\n",
              "      <td>0.0961</td>\n",
              "      <td>0.0519</td>\n",
              "      <td>0.0442</td>\n",
              "      <td>0.0416</td>\n",
              "      <td>0.0364</td>\n",
              "      <td>0.0857</td>\n",
              "      <td>...</td>\n",
              "      <td>0.2260</td>\n",
              "      <td>0.2420</td>\n",
              "      <td>0.2440</td>\n",
              "      <td>0.2860</td>\n",
              "      <td>0.468</td>\n",
              "      <td>0.8160</td>\n",
              "      <td>0.9770</td>\n",
              "      <td>0.452</td>\n",
              "      <td>0.0519</td>\n",
              "      <td>0.0</td>\n",
              "    </tr>\n",
              "    <tr>\n",
              "      <th>3</th>\n",
              "      <td>1.000</td>\n",
              "      <td>0.740</td>\n",
              "      <td>0.235</td>\n",
              "      <td>0.0464</td>\n",
              "      <td>0.0722</td>\n",
              "      <td>0.0567</td>\n",
              "      <td>0.0103</td>\n",
              "      <td>0.0155</td>\n",
              "      <td>0.0284</td>\n",
              "      <td>0.0155</td>\n",
              "      <td>...</td>\n",
              "      <td>0.0851</td>\n",
              "      <td>0.0747</td>\n",
              "      <td>0.0515</td>\n",
              "      <td>0.0593</td>\n",
              "      <td>0.067</td>\n",
              "      <td>0.0361</td>\n",
              "      <td>0.1210</td>\n",
              "      <td>0.451</td>\n",
              "      <td>0.8690</td>\n",
              "      <td>0.0</td>\n",
              "    </tr>\n",
              "    <tr>\n",
              "      <th>4</th>\n",
              "      <td>1.000</td>\n",
              "      <td>0.833</td>\n",
              "      <td>0.309</td>\n",
              "      <td>0.0191</td>\n",
              "      <td>0.1010</td>\n",
              "      <td>0.1200</td>\n",
              "      <td>0.1040</td>\n",
              "      <td>0.0874</td>\n",
              "      <td>0.0765</td>\n",
              "      <td>0.0765</td>\n",
              "      <td>...</td>\n",
              "      <td>0.2050</td>\n",
              "      <td>0.4210</td>\n",
              "      <td>0.8030</td>\n",
              "      <td>0.9510</td>\n",
              "      <td>0.467</td>\n",
              "      <td>0.0000</td>\n",
              "      <td>0.0519</td>\n",
              "      <td>0.082</td>\n",
              "      <td>0.0628</td>\n",
              "      <td>0.0</td>\n",
              "    </tr>\n",
              "  </tbody>\n",
              "</table>\n",
              "<p>5 rows × 81 columns</p>\n",
              "</div>\n",
              "      <button class=\"colab-df-convert\" onclick=\"convertToInteractive('df-05413f6f-f531-40a5-93f2-f5cd7f64110e')\"\n",
              "              title=\"Convert this dataframe to an interactive table.\"\n",
              "              style=\"display:none;\">\n",
              "        \n",
              "  <svg xmlns=\"http://www.w3.org/2000/svg\" height=\"24px\"viewBox=\"0 0 24 24\"\n",
              "       width=\"24px\">\n",
              "    <path d=\"M0 0h24v24H0V0z\" fill=\"none\"/>\n",
              "    <path d=\"M18.56 5.44l.94 2.06.94-2.06 2.06-.94-2.06-.94-.94-2.06-.94 2.06-2.06.94zm-11 1L8.5 8.5l.94-2.06 2.06-.94-2.06-.94L8.5 2.5l-.94 2.06-2.06.94zm10 10l.94 2.06.94-2.06 2.06-.94-2.06-.94-.94-2.06-.94 2.06-2.06.94z\"/><path d=\"M17.41 7.96l-1.37-1.37c-.4-.4-.92-.59-1.43-.59-.52 0-1.04.2-1.43.59L10.3 9.45l-7.72 7.72c-.78.78-.78 2.05 0 2.83L4 21.41c.39.39.9.59 1.41.59.51 0 1.02-.2 1.41-.59l7.78-7.78 2.81-2.81c.8-.78.8-2.07 0-2.86zM5.41 20L4 18.59l7.72-7.72 1.47 1.35L5.41 20z\"/>\n",
              "  </svg>\n",
              "      </button>\n",
              "      \n",
              "  <style>\n",
              "    .colab-df-container {\n",
              "      display:flex;\n",
              "      flex-wrap:wrap;\n",
              "      gap: 12px;\n",
              "    }\n",
              "\n",
              "    .colab-df-convert {\n",
              "      background-color: #E8F0FE;\n",
              "      border: none;\n",
              "      border-radius: 50%;\n",
              "      cursor: pointer;\n",
              "      display: none;\n",
              "      fill: #1967D2;\n",
              "      height: 32px;\n",
              "      padding: 0 0 0 0;\n",
              "      width: 32px;\n",
              "    }\n",
              "\n",
              "    .colab-df-convert:hover {\n",
              "      background-color: #E2EBFA;\n",
              "      box-shadow: 0px 1px 2px rgba(60, 64, 67, 0.3), 0px 1px 3px 1px rgba(60, 64, 67, 0.15);\n",
              "      fill: #174EA6;\n",
              "    }\n",
              "\n",
              "    [theme=dark] .colab-df-convert {\n",
              "      background-color: #3B4455;\n",
              "      fill: #D2E3FC;\n",
              "    }\n",
              "\n",
              "    [theme=dark] .colab-df-convert:hover {\n",
              "      background-color: #434B5C;\n",
              "      box-shadow: 0px 1px 3px 1px rgba(0, 0, 0, 0.15);\n",
              "      filter: drop-shadow(0px 1px 2px rgba(0, 0, 0, 0.3));\n",
              "      fill: #FFFFFF;\n",
              "    }\n",
              "  </style>\n",
              "\n",
              "      <script>\n",
              "        const buttonEl =\n",
              "          document.querySelector('#df-05413f6f-f531-40a5-93f2-f5cd7f64110e button.colab-df-convert');\n",
              "        buttonEl.style.display =\n",
              "          google.colab.kernel.accessAllowed ? 'block' : 'none';\n",
              "\n",
              "        async function convertToInteractive(key) {\n",
              "          const element = document.querySelector('#df-05413f6f-f531-40a5-93f2-f5cd7f64110e');\n",
              "          const dataTable =\n",
              "            await google.colab.kernel.invokeFunction('convertToInteractive',\n",
              "                                                     [key], {});\n",
              "          if (!dataTable) return;\n",
              "\n",
              "          const docLinkHtml = 'Like what you see? Visit the ' +\n",
              "            '<a target=\"_blank\" href=https://colab.research.google.com/notebooks/data_table.ipynb>data table notebook</a>'\n",
              "            + ' to learn more about interactive tables.';\n",
              "          element.innerHTML = '';\n",
              "          dataTable['output_type'] = 'display_data';\n",
              "          await google.colab.output.renderOutput(dataTable, element);\n",
              "          const docLink = document.createElement('div');\n",
              "          docLink.innerHTML = docLinkHtml;\n",
              "          element.appendChild(docLink);\n",
              "        }\n",
              "      </script>\n",
              "    </div>\n",
              "  </div>\n",
              "  "
            ]
          },
          "metadata": {},
          "execution_count": 3
        }
      ]
    },
    {
      "cell_type": "markdown",
      "source": [
        "**Plotting Few Rows to see trends**"
      ],
      "metadata": {
        "id": "DlhezOl32TS-"
      }
    },
    {
      "cell_type": "code",
      "source": [
        "import matplotlib.pyplot as plt\n",
        "fig, (ax1, ax2,ax3,ax4) = plt.subplots(4)\n",
        "ax1.plot(data.iloc[0])\n",
        "ax2.plot(data.iloc[1])\n",
        "ax3.plot(data.iloc[2])\n",
        "ax4.plot(data.iloc[3])"
      ],
      "metadata": {
        "colab": {
          "base_uri": "https://localhost:8080/",
          "height": 286
        },
        "id": "xO_wPPv-1v0q",
        "outputId": "9dc2ebe1-ceec-4258-a080-c2eee2c69b40"
      },
      "execution_count": 4,
      "outputs": [
        {
          "output_type": "execute_result",
          "data": {
            "text/plain": [
              "[<matplotlib.lines.Line2D at 0x7f73f191e490>]"
            ]
          },
          "metadata": {},
          "execution_count": 4
        },
        {
          "output_type": "display_data",
          "data": {
            "text/plain": [
              "<Figure size 432x288 with 4 Axes>"
            ],
            "image/png": "[encoded data removed]"
          },
          "metadata": {
            "needs_background": "light"
          }
        }
      ]
    },
    {
      "cell_type": "code",
      "source": [
        ""
      ],
      "metadata": {
        "id": "7kRQ3KSs0JFf"
      },
      "execution_count": 4,
      "outputs": []
    },
    {
      "cell_type": "markdown",
      "source": [
        "**As mentioned in the description ecah. row in the  dataset represents a single measurement (captured on a timeline). There are a total of 80 data points (columns).**"
      ],
      "metadata": {
        "id": "ww87qjuzzSh4"
      }
    },
    {
      "cell_type": "code",
      "source": [
        ""
      ],
      "metadata": {
        "id": "e2AqlCR10KGT"
      },
      "execution_count": 4,
      "outputs": []
    },
    {
      "cell_type": "code",
      "source": [
        "from sklearn.model_selection import train_test_split\n",
        "\n",
        "train_set, test_set = train_test_split(data, test_size=0.3)"
      ],
      "metadata": {
        "id": "i49FUXO20Re-"
      },
      "execution_count": 42,
      "outputs": []
    },
    {
      "cell_type": "code",
      "source": [
        ""
      ],
      "metadata": {
        "id": "k-t3TCUt0Rh0"
      },
      "execution_count": 42,
      "outputs": []
    },
    {
      "cell_type": "markdown",
      "source": [
        "## Separate the target variable (we don't want to transform it)"
      ],
      "metadata": {
        "id": "jWVeKAnr1Ipc"
      }
    },
    {
      "cell_type": "code",
      "source": [
        "train_target = train_set[['Target']]\n",
        "test_target = test_set[['Target']]\n",
        "\n",
        "train_inputs = train_set.drop(['Target'], axis=1)\n",
        "test_inputs = test_set.drop(['Target'], axis=1)"
      ],
      "metadata": {
        "id": "64n1BVsG1H73"
      },
      "execution_count": 43,
      "outputs": []
    },
    {
      "cell_type": "markdown",
      "source": [
        "# **Encoding the Target column**"
      ],
      "metadata": {
        "id": "x-SgsdxB6TYG"
      }
    },
    {
      "cell_type": "code",
      "source": [
        "from sklearn.preprocessing import OrdinalEncoder\n",
        "ord_enc = OrdinalEncoder()\n",
        "\n",
        "train_y = ord_enc.fit_transform(train_target)\n",
        "\n",
        "train_y"
      ],
      "metadata": {
        "colab": {
          "base_uri": "https://localhost:8080/"
        },
        "id": "oA7iBNqI6Siv",
        "outputId": "47427825-eeb2-45cf-ceaa-5dd518f63792"
      },
      "execution_count": 44,
      "outputs": [
        {
          "output_type": "execute_result",
          "data": {
            "text/plain": [
              "array([[4.],\n",
              "       [2.],\n",
              "       [0.],\n",
              "       ...,\n",
              "       [0.],\n",
              "       [0.],\n",
              "       [0.]])"
            ]
          },
          "metadata": {},
          "execution_count": 44
        }
      ]
    },
    {
      "cell_type": "code",
      "source": [
        "#Applying it for test also\n",
        "test_y = ord_enc.transform(test_target)\n",
        "\n",
        "test_y"
      ],
      "metadata": {
        "colab": {
          "base_uri": "https://localhost:8080/"
        },
        "id": "_7x6_ZvK6Svg",
        "outputId": "d55a89bb-077a-4c5e-cc8c-69faeeb3e1c1"
      },
      "execution_count": 45,
      "outputs": [
        {
          "output_type": "execute_result",
          "data": {
            "text/plain": [
              "array([[4.],\n",
              "       [2.],\n",
              "       [4.],\n",
              "       ...,\n",
              "       [0.],\n",
              "       [0.],\n",
              "       [0.]])"
            ]
          },
          "metadata": {},
          "execution_count": 45
        }
      ]
    },
    {
      "cell_type": "markdown",
      "source": [
        "# **Data Sanity Checks**"
      ],
      "metadata": {
        "id": "NdhnBotM0LEj"
      }
    },
    {
      "cell_type": "markdown",
      "source": [
        " **Check for Missing Values**"
      ],
      "metadata": {
        "id": "7Sw_GIoJ0cPx"
      }
    },
    {
      "cell_type": "code",
      "source": [
        "train_set.isna().sum()"
      ],
      "metadata": {
        "colab": {
          "base_uri": "https://localhost:8080/"
        },
        "id": "gqnTqBQG0KJt",
        "outputId": "5ab141c4-1275-40f7-9e93-ca7361d4444c"
      },
      "execution_count": 46,
      "outputs": [
        {
          "output_type": "execute_result",
          "data": {
            "text/plain": [
              "T1        0\n",
              "T2        0\n",
              "T3        0\n",
              "T4        0\n",
              "T5        0\n",
              "         ..\n",
              "T77       0\n",
              "T78       0\n",
              "T79       0\n",
              "T80       0\n",
              "Target    0\n",
              "Length: 81, dtype: int64"
            ]
          },
          "metadata": {},
          "execution_count": 46
        }
      ]
    },
    {
      "cell_type": "code",
      "source": [
        "test_set.isna().sum()"
      ],
      "metadata": {
        "colab": {
          "base_uri": "https://localhost:8080/"
        },
        "id": "d49TszqL0KM0",
        "outputId": "d9b8769b-4577-431f-f5b8-f8a162799228"
      },
      "execution_count": 47,
      "outputs": [
        {
          "output_type": "execute_result",
          "data": {
            "text/plain": [
              "T1        0\n",
              "T2        0\n",
              "T3        0\n",
              "T4        0\n",
              "T5        0\n",
              "         ..\n",
              "T77       0\n",
              "T78       0\n",
              "T79       0\n",
              "T80       0\n",
              "Target    0\n",
              "Length: 81, dtype: int64"
            ]
          },
          "metadata": {},
          "execution_count": 47
        }
      ]
    },
    {
      "cell_type": "markdown",
      "source": [
        "We can conclude that data set is clean "
      ],
      "metadata": {
        "id": "GWVPOxav0lNv"
      }
    },
    {
      "cell_type": "code",
      "source": [
        ""
      ],
      "metadata": {
        "id": "yGh1SYzT0Ko9"
      },
      "execution_count": 47,
      "outputs": []
    },
    {
      "cell_type": "markdown",
      "metadata": {
        "id": "ILgwDfDGoUDb"
      },
      "source": [
        "# Find the baseline (0.5 point)"
      ]
    },
    {
      "cell_type": "code",
      "execution_count": 48,
      "metadata": {
        "colab": {
          "base_uri": "https://localhost:8080/"
        },
        "id": "LeDqIjTMoUDb",
        "outputId": "b46e5516-fd3d-43a4-c8bf-c546e176e63a"
      },
      "outputs": [
        {
          "output_type": "execute_result",
          "data": {
            "text/plain": [
              "Target\n",
              "0.0       0.572864\n",
              "4.0       0.203338\n",
              "2.0       0.160804\n",
              "1.0       0.054738\n",
              "3.0       0.008256\n",
              "dtype: float64"
            ]
          },
          "metadata": {},
          "execution_count": 48
        }
      ],
      "source": [
        "train_target.value_counts()/len(train_target)"
      ]
    },
    {
      "cell_type": "code",
      "execution_count": 48,
      "metadata": {
        "id": "h50-Yi5GoUDb"
      },
      "outputs": [],
      "source": [
        ""
      ]
    },
    {
      "cell_type": "markdown",
      "metadata": {
        "id": "s0hIH8rioUDb"
      },
      "source": [
        "# Build a cross-sectional shallow model using Keras (with only one hidden layer) (2 points)"
      ]
    },
    {
      "cell_type": "code",
      "execution_count": 49,
      "metadata": {
        "id": "YjUlKbXPoUDb"
      },
      "outputs": [],
      "source": [
        "import tensorflow as tf\n",
        "from tensorflow import keras\n",
        "\n",
        "# fix random seed for reproducibility\n",
        "tf.random.set_seed(46046025)"
      ]
    },
    {
      "cell_type": "code",
      "execution_count": 50,
      "metadata": {
        "colab": {
          "base_uri": "https://localhost:8080/"
        },
        "id": "Nn9bHM-noUDb",
        "outputId": "34101103-5073-4fe7-ac45-78e7ccd9399a"
      },
      "outputs": [
        {
          "output_type": "execute_result",
          "data": {
            "text/plain": [
              "(5572, 80)"
            ]
          },
          "metadata": {},
          "execution_count": 50
        }
      ],
      "source": [
        "#Checking the shape of the datset to define the input dimenssions of the model\n",
        "\n",
        "train_inputs.shape"
      ]
    },
    {
      "cell_type": "markdown",
      "source": [
        "# **Model 1**(Adam Optimizer)"
      ],
      "metadata": {
        "id": "qJzFmiHq81y1"
      }
    },
    {
      "cell_type": "code",
      "execution_count": 51,
      "metadata": {
        "id": "pWZDvKQnoUDb"
      },
      "outputs": [],
      "source": [
        "#Define the model: for multi-class\n",
        "\n",
        "model = keras.models.Sequential()\n",
        "\n",
        "model.add(keras.layers.Input(shape=80))\n",
        "model.add(keras.layers.Dense(100, activation='relu'))\n",
        "model.add(keras.layers.Dense(5, activation='softmax'))\n",
        "#final layer: there has to be 5 nodes with softmax layer since we have 5 categories in the target label.\n"
      ]
    },
    {
      "cell_type": "code",
      "source": [
        "# Compile model\n",
        "\n",
        "#Optimizer using Adam optimizer\n",
        "adam = keras.optimizers.Adam(learning_rate=0.01)\n",
        "\n",
        "model.compile(loss='sparse_categorical_crossentropy', optimizer=adam, metrics=['accuracy'])"
      ],
      "metadata": {
        "id": "dLCz-WII8zpG"
      },
      "execution_count": 52,
      "outputs": []
    },
    {
      "cell_type": "code",
      "source": [
        "# Fit the model\n",
        "\n",
        "history = model.fit(train_inputs, train_y, \n",
        "                    validation_data=(test_inputs, test_y), \n",
        "                    epochs=50, batch_size=500)"
      ],
      "metadata": {
        "colab": {
          "base_uri": "https://localhost:8080/"
        },
        "id": "Y7Y7cIBP8zs9",
        "outputId": "af4953ff-1a8c-4a0b-988b-23a0a25a54b1"
      },
      "execution_count": 53,
      "outputs": [
        {
          "output_type": "stream",
          "name": "stdout",
          "text": [
            "Epoch 1/50\n",
            "12/12 [==============================] - 1s 19ms/step - loss: 1.1300 - accuracy: 0.6018 - val_loss: 0.8129 - val_accuracy: 0.7701\n",
            "Epoch 2/50\n",
            "12/12 [==============================] - 0s 7ms/step - loss: 0.7687 - accuracy: 0.7717 - val_loss: 0.6690 - val_accuracy: 0.7718\n",
            "Epoch 3/50\n",
            "12/12 [==============================] - 0s 7ms/step - loss: 0.6853 - accuracy: 0.7854 - val_loss: 0.6360 - val_accuracy: 0.8074\n",
            "Epoch 4/50\n",
            "12/12 [==============================] - 0s 6ms/step - loss: 0.6486 - accuracy: 0.8001 - val_loss: 0.5988 - val_accuracy: 0.8107\n",
            "Epoch 5/50\n",
            "12/12 [==============================] - 0s 6ms/step - loss: 0.6083 - accuracy: 0.8004 - val_loss: 0.5521 - val_accuracy: 0.8204\n",
            "Epoch 6/50\n",
            "12/12 [==============================] - 0s 6ms/step - loss: 0.5582 - accuracy: 0.8157 - val_loss: 0.5090 - val_accuracy: 0.8162\n",
            "Epoch 7/50\n",
            "12/12 [==============================] - 0s 6ms/step - loss: 0.5220 - accuracy: 0.8204 - val_loss: 0.4669 - val_accuracy: 0.8559\n",
            "Epoch 8/50\n",
            "12/12 [==============================] - 0s 6ms/step - loss: 0.4935 - accuracy: 0.8335 - val_loss: 0.4452 - val_accuracy: 0.8497\n",
            "Epoch 9/50\n",
            "12/12 [==============================] - 0s 8ms/step - loss: 0.4515 - accuracy: 0.8476 - val_loss: 0.4180 - val_accuracy: 0.8723\n",
            "Epoch 10/50\n",
            "12/12 [==============================] - 0s 7ms/step - loss: 0.4310 - accuracy: 0.8634 - val_loss: 0.4091 - val_accuracy: 0.8915\n",
            "Epoch 11/50\n",
            "12/12 [==============================] - 0s 6ms/step - loss: 0.4220 - accuracy: 0.8720 - val_loss: 0.3956 - val_accuracy: 0.8802\n",
            "Epoch 12/50\n",
            "12/12 [==============================] - 0s 6ms/step - loss: 0.4071 - accuracy: 0.8758 - val_loss: 0.4364 - val_accuracy: 0.8723\n",
            "Epoch 13/50\n",
            "12/12 [==============================] - 0s 7ms/step - loss: 0.4123 - accuracy: 0.8715 - val_loss: 0.3831 - val_accuracy: 0.8991\n",
            "Epoch 14/50\n",
            "12/12 [==============================] - 0s 6ms/step - loss: 0.3844 - accuracy: 0.8880 - val_loss: 0.3739 - val_accuracy: 0.8823\n",
            "Epoch 15/50\n",
            "12/12 [==============================] - 0s 6ms/step - loss: 0.3752 - accuracy: 0.8871 - val_loss: 0.3717 - val_accuracy: 0.8957\n",
            "Epoch 16/50\n",
            "12/12 [==============================] - 0s 7ms/step - loss: 0.3818 - accuracy: 0.8826 - val_loss: 0.4195 - val_accuracy: 0.8756\n",
            "Epoch 17/50\n",
            "12/12 [==============================] - 0s 6ms/step - loss: 0.3739 - accuracy: 0.8877 - val_loss: 0.3686 - val_accuracy: 0.8987\n",
            "Epoch 18/50\n",
            "12/12 [==============================] - 0s 7ms/step - loss: 0.3636 - accuracy: 0.8914 - val_loss: 0.3431 - val_accuracy: 0.9100\n",
            "Epoch 19/50\n",
            "12/12 [==============================] - 0s 6ms/step - loss: 0.3509 - accuracy: 0.8991 - val_loss: 0.3434 - val_accuracy: 0.9133\n",
            "Epoch 20/50\n",
            "12/12 [==============================] - 0s 6ms/step - loss: 0.3500 - accuracy: 0.8957 - val_loss: 0.3388 - val_accuracy: 0.9079\n",
            "Epoch 21/50\n",
            "12/12 [==============================] - 0s 6ms/step - loss: 0.3413 - accuracy: 0.9024 - val_loss: 0.3404 - val_accuracy: 0.9033\n",
            "Epoch 22/50\n",
            "12/12 [==============================] - 0s 6ms/step - loss: 0.3293 - accuracy: 0.9081 - val_loss: 0.3295 - val_accuracy: 0.9066\n",
            "Epoch 23/50\n",
            "12/12 [==============================] - 0s 7ms/step - loss: 0.3199 - accuracy: 0.9097 - val_loss: 0.3278 - val_accuracy: 0.9100\n",
            "Epoch 24/50\n",
            "12/12 [==============================] - 0s 6ms/step - loss: 0.3225 - accuracy: 0.9087 - val_loss: 0.3210 - val_accuracy: 0.9196\n",
            "Epoch 25/50\n",
            "12/12 [==============================] - 0s 6ms/step - loss: 0.3122 - accuracy: 0.9151 - val_loss: 0.3189 - val_accuracy: 0.9162\n",
            "Epoch 26/50\n",
            "12/12 [==============================] - 0s 6ms/step - loss: 0.3092 - accuracy: 0.9142 - val_loss: 0.3275 - val_accuracy: 0.9041\n",
            "Epoch 27/50\n",
            "12/12 [==============================] - 0s 6ms/step - loss: 0.3098 - accuracy: 0.9103 - val_loss: 0.3192 - val_accuracy: 0.9137\n",
            "Epoch 28/50\n",
            "12/12 [==============================] - 0s 7ms/step - loss: 0.3056 - accuracy: 0.9142 - val_loss: 0.3161 - val_accuracy: 0.9146\n",
            "Epoch 29/50\n",
            "12/12 [==============================] - 0s 6ms/step - loss: 0.3019 - accuracy: 0.9119 - val_loss: 0.3028 - val_accuracy: 0.9213\n",
            "Epoch 30/50\n",
            "12/12 [==============================] - 0s 8ms/step - loss: 0.2916 - accuracy: 0.9165 - val_loss: 0.3171 - val_accuracy: 0.9162\n",
            "Epoch 31/50\n",
            "12/12 [==============================] - 0s 8ms/step - loss: 0.3040 - accuracy: 0.9128 - val_loss: 0.3053 - val_accuracy: 0.9221\n",
            "Epoch 32/50\n",
            "12/12 [==============================] - 0s 7ms/step - loss: 0.2938 - accuracy: 0.9167 - val_loss: 0.3004 - val_accuracy: 0.9238\n",
            "Epoch 33/50\n",
            "12/12 [==============================] - 0s 7ms/step - loss: 0.2868 - accuracy: 0.9196 - val_loss: 0.3093 - val_accuracy: 0.9217\n",
            "Epoch 34/50\n",
            "12/12 [==============================] - 0s 6ms/step - loss: 0.2833 - accuracy: 0.9207 - val_loss: 0.2945 - val_accuracy: 0.9238\n",
            "Epoch 35/50\n",
            "12/12 [==============================] - 0s 6ms/step - loss: 0.2761 - accuracy: 0.9221 - val_loss: 0.2920 - val_accuracy: 0.9250\n",
            "Epoch 36/50\n",
            "12/12 [==============================] - 0s 7ms/step - loss: 0.2745 - accuracy: 0.9223 - val_loss: 0.2971 - val_accuracy: 0.9225\n",
            "Epoch 37/50\n",
            "12/12 [==============================] - 0s 6ms/step - loss: 0.2793 - accuracy: 0.9203 - val_loss: 0.3335 - val_accuracy: 0.9112\n",
            "Epoch 38/50\n",
            "12/12 [==============================] - 0s 6ms/step - loss: 0.2868 - accuracy: 0.9171 - val_loss: 0.2944 - val_accuracy: 0.9221\n",
            "Epoch 39/50\n",
            "12/12 [==============================] - 0s 6ms/step - loss: 0.2695 - accuracy: 0.9226 - val_loss: 0.2883 - val_accuracy: 0.9246\n",
            "Epoch 40/50\n",
            "12/12 [==============================] - 0s 7ms/step - loss: 0.2707 - accuracy: 0.9243 - val_loss: 0.3096 - val_accuracy: 0.9125\n",
            "Epoch 41/50\n",
            "12/12 [==============================] - 0s 6ms/step - loss: 0.2759 - accuracy: 0.9210 - val_loss: 0.2921 - val_accuracy: 0.9250\n",
            "Epoch 42/50\n",
            "12/12 [==============================] - 0s 7ms/step - loss: 0.2673 - accuracy: 0.9232 - val_loss: 0.2817 - val_accuracy: 0.9234\n",
            "Epoch 43/50\n",
            "12/12 [==============================] - 0s 6ms/step - loss: 0.2704 - accuracy: 0.9221 - val_loss: 0.3054 - val_accuracy: 0.9133\n",
            "Epoch 44/50\n",
            "12/12 [==============================] - 0s 7ms/step - loss: 0.2642 - accuracy: 0.9216 - val_loss: 0.2837 - val_accuracy: 0.9234\n",
            "Epoch 45/50\n",
            "12/12 [==============================] - 0s 6ms/step - loss: 0.2564 - accuracy: 0.9253 - val_loss: 0.2835 - val_accuracy: 0.9234\n",
            "Epoch 46/50\n",
            "12/12 [==============================] - 0s 8ms/step - loss: 0.2501 - accuracy: 0.9271 - val_loss: 0.2847 - val_accuracy: 0.9238\n",
            "Epoch 47/50\n",
            "12/12 [==============================] - 0s 7ms/step - loss: 0.2478 - accuracy: 0.9284 - val_loss: 0.2733 - val_accuracy: 0.9284\n",
            "Epoch 48/50\n",
            "12/12 [==============================] - 0s 7ms/step - loss: 0.2514 - accuracy: 0.9262 - val_loss: 0.2834 - val_accuracy: 0.9234\n",
            "Epoch 49/50\n",
            "12/12 [==============================] - 0s 6ms/step - loss: 0.2472 - accuracy: 0.9271 - val_loss: 0.2841 - val_accuracy: 0.9250\n",
            "Epoch 50/50\n",
            "12/12 [==============================] - 0s 7ms/step - loss: 0.2509 - accuracy: 0.9248 - val_loss: 0.2815 - val_accuracy: 0.9229\n"
          ]
        }
      ]
    },
    {
      "cell_type": "code",
      "source": [
        "# evaluate the model\n",
        "\n",
        "scores = model.evaluate(test_inputs, test_y, verbose=0)\n",
        "\n",
        "scores\n",
        "\n",
        "# In results, first is loss, second is accuracy"
      ],
      "metadata": {
        "colab": {
          "base_uri": "https://localhost:8080/"
        },
        "id": "zb2yPqaF_xlt",
        "outputId": "951b5a8d-8249-4dee-e2c6-73cd85c3bb89"
      },
      "execution_count": 56,
      "outputs": [
        {
          "output_type": "execute_result",
          "data": {
            "text/plain": [
              "[0.28153911232948303, 0.9229480624198914]"
            ]
          },
          "metadata": {},
          "execution_count": 56
        }
      ]
    },
    {
      "cell_type": "code",
      "source": [
        "# extract the accuracy from model.evaluate\n",
        "\n",
        "print(\"%s: %.2f\" % (model.metrics_names[0], scores[0]))\n",
        "print(\"%s: %.2f%%\" % (model.metrics_names[1], scores[1]*100))\n"
      ],
      "metadata": {
        "colab": {
          "base_uri": "https://localhost:8080/"
        },
        "id": "NKwsECEL_xpE",
        "outputId": "c9ff1a83-53e0-44aa-9de5-f159c8f8baab"
      },
      "execution_count": 57,
      "outputs": [
        {
          "output_type": "stream",
          "name": "stdout",
          "text": [
            "loss: 0.28\n",
            "accuracy: 92.29%\n"
          ]
        }
      ]
    },
    {
      "cell_type": "markdown",
      "source": [
        "`**Note:**` In the above model i tried different epochs and i found that as we increase the number of epochs the accuray also started to increse, when i tried with 20 epochs i got an accuracy of `90.2%` and when i increaed the number of epochs to 50 the accuracy increased to `92.22%` "
      ],
      "metadata": {
        "id": "Oplqdhxi94S0"
      }
    },
    {
      "cell_type": "markdown",
      "source": [
        "# Sub-Model (Optimizer: RMSprop)"
      ],
      "metadata": {
        "id": "tbpOSeHY-fGF"
      }
    },
    {
      "cell_type": "markdown",
      "source": [
        "I looked up the Keras documentation to find other available optimizers(https://keras.io/api/optimizers/)"
      ],
      "metadata": {
        "id": "_RcFTULJ_CkD"
      }
    },
    {
      "cell_type": "code",
      "source": [
        "#Define the model: for multi-class\n",
        "\n",
        "sub_model = keras.models.Sequential()\n",
        "\n",
        "sub_model.add(keras.layers.Input(shape=80))\n",
        "sub_model.add(keras.layers.Dense(150, activation='relu'))\n",
        "sub_model.add(keras.layers.Dense(5, activation='softmax'))\n",
        "#final layer: there has to be 5 nodes with softmax layer since we have 5 categories in the target label.\n"
      ],
      "metadata": {
        "id": "dUEhzoYx9gj0"
      },
      "execution_count": 58,
      "outputs": []
    },
    {
      "cell_type": "code",
      "source": [
        "# Compile model\n",
        "\n",
        "#Optimizer using Adam optimizer\n",
        "adam = keras.optimizers.RMSprop(learning_rate=0.01, momentum=0.02)\n",
        "\n",
        "sub_model.compile(loss='sparse_categorical_crossentropy', optimizer=adam, metrics=['accuracy'])"
      ],
      "metadata": {
        "id": "xkmtOUa_9gm6"
      },
      "execution_count": 59,
      "outputs": []
    },
    {
      "cell_type": "code",
      "source": [
        "# Fit the model\n",
        "\n",
        "history = sub_model.fit(train_inputs, train_y, \n",
        "                    validation_data=(test_inputs, test_y), \n",
        "                    epochs=50, batch_size=500)"
      ],
      "metadata": {
        "colab": {
          "base_uri": "https://localhost:8080/"
        },
        "id": "d-KLxenD9gql",
        "outputId": "0fe25b0d-4634-4e0c-931f-234dc511815a"
      },
      "execution_count": 60,
      "outputs": [
        {
          "output_type": "stream",
          "name": "stdout",
          "text": [
            "Epoch 1/50\n",
            "12/12 [==============================] - 1s 18ms/step - loss: 1.3819 - accuracy: 0.4885 - val_loss: 1.1462 - val_accuracy: 0.5779\n",
            "Epoch 2/50\n",
            "12/12 [==============================] - 0s 7ms/step - loss: 0.9282 - accuracy: 0.6734 - val_loss: 0.9052 - val_accuracy: 0.7508\n",
            "Epoch 3/50\n",
            "12/12 [==============================] - 0s 6ms/step - loss: 0.7996 - accuracy: 0.7457 - val_loss: 0.6518 - val_accuracy: 0.8103\n",
            "Epoch 4/50\n",
            "12/12 [==============================] - 0s 8ms/step - loss: 0.7148 - accuracy: 0.7678 - val_loss: 0.7967 - val_accuracy: 0.7399\n",
            "Epoch 5/50\n",
            "12/12 [==============================] - 0s 9ms/step - loss: 0.6748 - accuracy: 0.7721 - val_loss: 0.5718 - val_accuracy: 0.8082\n",
            "Epoch 6/50\n",
            "12/12 [==============================] - 0s 6ms/step - loss: 0.6222 - accuracy: 0.7850 - val_loss: 0.5581 - val_accuracy: 0.8178\n",
            "Epoch 7/50\n",
            "12/12 [==============================] - 0s 6ms/step - loss: 0.5791 - accuracy: 0.8062 - val_loss: 0.7139 - val_accuracy: 0.7265\n",
            "Epoch 8/50\n",
            "12/12 [==============================] - 0s 7ms/step - loss: 0.5783 - accuracy: 0.7994 - val_loss: 0.4910 - val_accuracy: 0.8312\n",
            "Epoch 9/50\n",
            "12/12 [==============================] - 0s 7ms/step - loss: 0.5378 - accuracy: 0.8186 - val_loss: 0.5224 - val_accuracy: 0.8241\n",
            "Epoch 10/50\n",
            "12/12 [==============================] - 0s 8ms/step - loss: 0.5573 - accuracy: 0.8126 - val_loss: 0.5330 - val_accuracy: 0.8053\n",
            "Epoch 11/50\n",
            "12/12 [==============================] - 0s 8ms/step - loss: 0.4844 - accuracy: 0.8291 - val_loss: 0.6589 - val_accuracy: 0.7542\n",
            "Epoch 12/50\n",
            "12/12 [==============================] - 0s 7ms/step - loss: 0.5260 - accuracy: 0.8252 - val_loss: 0.4970 - val_accuracy: 0.8484\n",
            "Epoch 13/50\n",
            "12/12 [==============================] - 0s 7ms/step - loss: 0.4752 - accuracy: 0.8396 - val_loss: 0.4140 - val_accuracy: 0.8446\n",
            "Epoch 14/50\n",
            "12/12 [==============================] - 0s 8ms/step - loss: 0.4579 - accuracy: 0.8460 - val_loss: 0.4618 - val_accuracy: 0.8543\n",
            "Epoch 15/50\n",
            "12/12 [==============================] - 0s 7ms/step - loss: 0.4417 - accuracy: 0.8505 - val_loss: 0.4327 - val_accuracy: 0.8702\n",
            "Epoch 16/50\n",
            "12/12 [==============================] - 0s 7ms/step - loss: 0.4550 - accuracy: 0.8568 - val_loss: 0.6348 - val_accuracy: 0.7688\n",
            "Epoch 17/50\n",
            "12/12 [==============================] - 0s 7ms/step - loss: 0.4163 - accuracy: 0.8623 - val_loss: 0.7100 - val_accuracy: 0.6717\n",
            "Epoch 18/50\n",
            "12/12 [==============================] - 0s 7ms/step - loss: 0.4364 - accuracy: 0.8505 - val_loss: 0.3815 - val_accuracy: 0.8987\n",
            "Epoch 19/50\n",
            "12/12 [==============================] - 0s 8ms/step - loss: 0.4026 - accuracy: 0.8654 - val_loss: 0.3759 - val_accuracy: 0.8668\n",
            "Epoch 20/50\n",
            "12/12 [==============================] - 0s 6ms/step - loss: 0.4103 - accuracy: 0.8546 - val_loss: 0.3848 - val_accuracy: 0.8723\n",
            "Epoch 21/50\n",
            "12/12 [==============================] - 0s 7ms/step - loss: 0.3948 - accuracy: 0.8720 - val_loss: 0.3727 - val_accuracy: 0.8807\n",
            "Epoch 22/50\n",
            "12/12 [==============================] - 0s 6ms/step - loss: 0.3885 - accuracy: 0.8706 - val_loss: 0.5370 - val_accuracy: 0.8241\n",
            "Epoch 23/50\n",
            "12/12 [==============================] - 0s 6ms/step - loss: 0.3578 - accuracy: 0.8830 - val_loss: 0.5184 - val_accuracy: 0.8262\n",
            "Epoch 24/50\n",
            "12/12 [==============================] - 0s 7ms/step - loss: 0.3627 - accuracy: 0.8830 - val_loss: 0.4497 - val_accuracy: 0.8371\n",
            "Epoch 25/50\n",
            "12/12 [==============================] - 0s 7ms/step - loss: 0.3567 - accuracy: 0.8841 - val_loss: 0.4565 - val_accuracy: 0.8664\n",
            "Epoch 26/50\n",
            "12/12 [==============================] - 0s 7ms/step - loss: 0.3364 - accuracy: 0.8961 - val_loss: 0.3942 - val_accuracy: 0.8798\n",
            "Epoch 27/50\n",
            "12/12 [==============================] - 0s 7ms/step - loss: 0.3878 - accuracy: 0.8740 - val_loss: 0.3635 - val_accuracy: 0.8685\n",
            "Epoch 28/50\n",
            "12/12 [==============================] - 0s 6ms/step - loss: 0.3281 - accuracy: 0.8950 - val_loss: 0.4452 - val_accuracy: 0.8484\n",
            "Epoch 29/50\n",
            "12/12 [==============================] - 0s 7ms/step - loss: 0.3858 - accuracy: 0.8751 - val_loss: 0.3215 - val_accuracy: 0.9075\n",
            "Epoch 30/50\n",
            "12/12 [==============================] - 0s 6ms/step - loss: 0.3028 - accuracy: 0.9038 - val_loss: 0.4147 - val_accuracy: 0.8756\n",
            "Epoch 31/50\n",
            "12/12 [==============================] - 0s 8ms/step - loss: 0.3207 - accuracy: 0.8961 - val_loss: 0.3521 - val_accuracy: 0.8978\n",
            "Epoch 32/50\n",
            "12/12 [==============================] - 0s 7ms/step - loss: 0.3154 - accuracy: 0.8999 - val_loss: 0.3361 - val_accuracy: 0.8932\n",
            "Epoch 33/50\n",
            "12/12 [==============================] - 0s 7ms/step - loss: 0.3246 - accuracy: 0.8970 - val_loss: 0.3160 - val_accuracy: 0.9112\n",
            "Epoch 34/50\n",
            "12/12 [==============================] - 0s 6ms/step - loss: 0.3073 - accuracy: 0.9040 - val_loss: 0.4748 - val_accuracy: 0.8693\n",
            "Epoch 35/50\n",
            "12/12 [==============================] - 0s 7ms/step - loss: 0.3375 - accuracy: 0.8934 - val_loss: 0.3188 - val_accuracy: 0.9133\n",
            "Epoch 36/50\n",
            "12/12 [==============================] - 0s 6ms/step - loss: 0.3094 - accuracy: 0.9034 - val_loss: 0.2926 - val_accuracy: 0.9188\n",
            "Epoch 37/50\n",
            "12/12 [==============================] - 0s 8ms/step - loss: 0.3086 - accuracy: 0.9052 - val_loss: 0.3352 - val_accuracy: 0.9095\n",
            "Epoch 38/50\n",
            "12/12 [==============================] - 0s 7ms/step - loss: 0.3303 - accuracy: 0.8990 - val_loss: 0.3405 - val_accuracy: 0.8974\n",
            "Epoch 39/50\n",
            "12/12 [==============================] - 0s 7ms/step - loss: 0.2715 - accuracy: 0.9187 - val_loss: 0.4761 - val_accuracy: 0.8354\n",
            "Epoch 40/50\n",
            "12/12 [==============================] - 0s 7ms/step - loss: 0.3400 - accuracy: 0.8943 - val_loss: 0.4431 - val_accuracy: 0.8832\n",
            "Epoch 41/50\n",
            "12/12 [==============================] - 0s 6ms/step - loss: 0.2795 - accuracy: 0.9140 - val_loss: 0.3821 - val_accuracy: 0.8673\n",
            "Epoch 42/50\n",
            "12/12 [==============================] - 0s 7ms/step - loss: 0.2875 - accuracy: 0.9128 - val_loss: 0.4559 - val_accuracy: 0.8505\n",
            "Epoch 43/50\n",
            "12/12 [==============================] - 0s 6ms/step - loss: 0.2975 - accuracy: 0.9078 - val_loss: 0.3256 - val_accuracy: 0.9045\n",
            "Epoch 44/50\n",
            "12/12 [==============================] - 0s 8ms/step - loss: 0.2905 - accuracy: 0.9070 - val_loss: 0.2852 - val_accuracy: 0.9221\n",
            "Epoch 45/50\n",
            "12/12 [==============================] - 0s 7ms/step - loss: 0.2636 - accuracy: 0.9228 - val_loss: 0.3142 - val_accuracy: 0.9146\n",
            "Epoch 46/50\n",
            "12/12 [==============================] - 0s 7ms/step - loss: 0.2682 - accuracy: 0.9207 - val_loss: 0.3220 - val_accuracy: 0.9112\n",
            "Epoch 47/50\n",
            "12/12 [==============================] - 0s 8ms/step - loss: 0.2925 - accuracy: 0.9065 - val_loss: 0.2816 - val_accuracy: 0.9271\n",
            "Epoch 48/50\n",
            "12/12 [==============================] - 0s 8ms/step - loss: 0.2797 - accuracy: 0.9140 - val_loss: 0.3095 - val_accuracy: 0.9062\n",
            "Epoch 49/50\n",
            "12/12 [==============================] - 0s 7ms/step - loss: 0.2684 - accuracy: 0.9146 - val_loss: 0.3260 - val_accuracy: 0.8999\n",
            "Epoch 50/50\n",
            "12/12 [==============================] - 0s 7ms/step - loss: 0.2781 - accuracy: 0.9090 - val_loss: 0.4883 - val_accuracy: 0.8702\n"
          ]
        }
      ]
    },
    {
      "cell_type": "code",
      "source": [
        "# evaluate the model\n",
        "\n",
        "scores = sub_model.evaluate(test_inputs, test_y, verbose=0)\n",
        "\n",
        "scores\n",
        "\n",
        "# In results, first is loss, second is accuracy"
      ],
      "metadata": {
        "colab": {
          "base_uri": "https://localhost:8080/"
        },
        "id": "vOCFGKzt9gtK",
        "outputId": "750698d7-d8c2-4813-edeb-4395f9306905"
      },
      "execution_count": 134,
      "outputs": [
        {
          "output_type": "execute_result",
          "data": {
            "text/plain": [
              "[0.4882899522781372, 0.8701842427253723]"
            ]
          },
          "metadata": {},
          "execution_count": 134
        }
      ]
    },
    {
      "cell_type": "code",
      "source": [
        "# extract the accuracy from model.evaluate\n",
        "\n",
        "print(\"%s: %.2f\" % (sub_model.metrics_names[0], scores[0]))\n",
        "print(\"%s: %.2f%%\" % (sub_model.metrics_names[1], scores[1]*100))\n"
      ],
      "metadata": {
        "colab": {
          "base_uri": "https://localhost:8080/"
        },
        "id": "wwpDfAEn9gwB",
        "outputId": "1458770b-2599-4f42-95d1-7955c5a0c2b0"
      },
      "execution_count": 135,
      "outputs": [
        {
          "output_type": "stream",
          "name": "stdout",
          "text": [
            "loss: 0.49\n",
            "accuracy: 87.02%\n"
          ]
        }
      ]
    },
    {
      "cell_type": "markdown",
      "source": [
        "From the above we can see that Adam optimizer perforemed better compared to RMSprop for same number of Epochs"
      ],
      "metadata": {
        "id": "EQyF4RsuI7lU"
      }
    },
    {
      "cell_type": "code",
      "source": [
        ""
      ],
      "metadata": {
        "id": "UpRtAdEX9g1I"
      },
      "execution_count": 62,
      "outputs": []
    },
    {
      "cell_type": "markdown",
      "metadata": {
        "id": "tqFRI-LWoUDb"
      },
      "source": [
        "# Build a cross-sectional deep model using Keras (with two or more hidden layers) (2 points)"
      ]
    },
    {
      "cell_type": "code",
      "execution_count": 62,
      "metadata": {
        "id": "ga8lqwhQoUDb"
      },
      "outputs": [],
      "source": [
        ""
      ]
    },
    {
      "cell_type": "markdown",
      "source": [
        "# **Model 1 (Adam Optimizer)**"
      ],
      "metadata": {
        "id": "v4sWKB5tJPU6"
      }
    },
    {
      "cell_type": "code",
      "execution_count": 63,
      "metadata": {
        "id": "8qmt4dlPoUDb"
      },
      "outputs": [],
      "source": [
        "#Define the model: for multi-class\n",
        "\n",
        "sub_model_multi = keras.models.Sequential()\n",
        "\n",
        "sub_model_multi.add(keras.layers.Input(shape=80))\n",
        "sub_model_multi.add(keras.layers.Dense(75, activation='relu'))\n",
        "sub_model_multi.add(keras.layers.Dense(150, activation='relu'))\n",
        "sub_model_multi.add(keras.layers.Dense(75, activation='relu'))\n",
        "sub_model_multi.add(keras.layers.Dense(5, activation='softmax'))\n",
        "#final layer: there has to be 5 nodes with softmax layer since we have 5 categories in the target label.\n"
      ]
    },
    {
      "cell_type": "code",
      "source": [
        "# Compile model\n",
        "\n",
        "#Optimizer using Adam optimizer\n",
        "adam = keras.optimizers.Adam(learning_rate=0.01)\n",
        "\n",
        "sub_model_multi.compile(loss='sparse_categorical_crossentropy', optimizer=adam, metrics=['accuracy'])"
      ],
      "metadata": {
        "id": "Y10wLnBYJjVp"
      },
      "execution_count": 64,
      "outputs": []
    },
    {
      "cell_type": "code",
      "source": [
        "# Fit the model\n",
        "\n",
        "history = sub_model_multi.fit(train_inputs, train_y, \n",
        "                    validation_data=(test_inputs, test_y), \n",
        "                    epochs=50, batch_size=500)"
      ],
      "metadata": {
        "colab": {
          "base_uri": "https://localhost:8080/"
        },
        "id": "bueA_kagJjai",
        "outputId": "ab4c607d-69a3-4026-ce8c-52ce2b51761d"
      },
      "execution_count": 65,
      "outputs": [
        {
          "output_type": "stream",
          "name": "stdout",
          "text": [
            "Epoch 1/50\n",
            "12/12 [==============================] - 1s 25ms/step - loss: 1.0182 - accuracy: 0.6226 - val_loss: 0.8204 - val_accuracy: 0.7186\n",
            "Epoch 2/50\n",
            "12/12 [==============================] - 0s 10ms/step - loss: 0.6994 - accuracy: 0.7548 - val_loss: 0.5824 - val_accuracy: 0.8040\n",
            "Epoch 3/50\n",
            "12/12 [==============================] - 0s 11ms/step - loss: 0.5734 - accuracy: 0.7997 - val_loss: 0.4912 - val_accuracy: 0.8367\n",
            "Epoch 4/50\n",
            "12/12 [==============================] - 0s 15ms/step - loss: 0.4801 - accuracy: 0.8439 - val_loss: 0.4705 - val_accuracy: 0.8601\n",
            "Epoch 5/50\n",
            "12/12 [==============================] - 0s 11ms/step - loss: 0.4348 - accuracy: 0.8684 - val_loss: 0.3964 - val_accuracy: 0.8756\n",
            "Epoch 6/50\n",
            "12/12 [==============================] - 0s 11ms/step - loss: 0.4000 - accuracy: 0.8699 - val_loss: 0.4391 - val_accuracy: 0.8543\n",
            "Epoch 7/50\n",
            "12/12 [==============================] - 0s 10ms/step - loss: 0.3765 - accuracy: 0.8837 - val_loss: 0.3509 - val_accuracy: 0.9095\n",
            "Epoch 8/50\n",
            "12/12 [==============================] - 0s 11ms/step - loss: 0.3333 - accuracy: 0.8964 - val_loss: 0.3280 - val_accuracy: 0.9137\n",
            "Epoch 9/50\n",
            "12/12 [==============================] - 0s 10ms/step - loss: 0.3072 - accuracy: 0.9067 - val_loss: 0.3498 - val_accuracy: 0.9003\n",
            "Epoch 10/50\n",
            "12/12 [==============================] - 0s 11ms/step - loss: 0.3286 - accuracy: 0.8961 - val_loss: 0.3088 - val_accuracy: 0.9154\n",
            "Epoch 11/50\n",
            "12/12 [==============================] - 0s 10ms/step - loss: 0.2796 - accuracy: 0.9133 - val_loss: 0.2882 - val_accuracy: 0.9204\n",
            "Epoch 12/50\n",
            "12/12 [==============================] - 0s 10ms/step - loss: 0.2635 - accuracy: 0.9169 - val_loss: 0.2973 - val_accuracy: 0.9112\n",
            "Epoch 13/50\n",
            "12/12 [==============================] - 0s 9ms/step - loss: 0.2612 - accuracy: 0.9198 - val_loss: 0.3109 - val_accuracy: 0.9188\n",
            "Epoch 14/50\n",
            "12/12 [==============================] - 0s 10ms/step - loss: 0.2447 - accuracy: 0.9246 - val_loss: 0.3199 - val_accuracy: 0.8995\n",
            "Epoch 15/50\n",
            "12/12 [==============================] - 0s 10ms/step - loss: 0.2413 - accuracy: 0.9235 - val_loss: 0.2911 - val_accuracy: 0.9204\n",
            "Epoch 16/50\n",
            "12/12 [==============================] - 0s 10ms/step - loss: 0.2495 - accuracy: 0.9214 - val_loss: 0.3062 - val_accuracy: 0.9016\n",
            "Epoch 17/50\n",
            "12/12 [==============================] - 0s 10ms/step - loss: 0.2617 - accuracy: 0.9156 - val_loss: 0.2811 - val_accuracy: 0.9150\n",
            "Epoch 18/50\n",
            "12/12 [==============================] - 0s 10ms/step - loss: 0.2340 - accuracy: 0.9266 - val_loss: 0.2611 - val_accuracy: 0.9267\n",
            "Epoch 19/50\n",
            "12/12 [==============================] - 0s 10ms/step - loss: 0.2183 - accuracy: 0.9298 - val_loss: 0.2689 - val_accuracy: 0.9200\n",
            "Epoch 20/50\n",
            "12/12 [==============================] - 0s 10ms/step - loss: 0.2213 - accuracy: 0.9316 - val_loss: 0.2466 - val_accuracy: 0.9259\n",
            "Epoch 21/50\n",
            "12/12 [==============================] - 0s 10ms/step - loss: 0.2030 - accuracy: 0.9332 - val_loss: 0.2761 - val_accuracy: 0.9271\n",
            "Epoch 22/50\n",
            "12/12 [==============================] - 0s 10ms/step - loss: 0.2122 - accuracy: 0.9365 - val_loss: 0.2434 - val_accuracy: 0.9313\n",
            "Epoch 23/50\n",
            "12/12 [==============================] - 0s 9ms/step - loss: 0.1892 - accuracy: 0.9386 - val_loss: 0.2319 - val_accuracy: 0.9334\n",
            "Epoch 24/50\n",
            "12/12 [==============================] - 0s 9ms/step - loss: 0.1845 - accuracy: 0.9415 - val_loss: 0.2304 - val_accuracy: 0.9363\n",
            "Epoch 25/50\n",
            "12/12 [==============================] - 0s 10ms/step - loss: 0.1691 - accuracy: 0.9471 - val_loss: 0.2480 - val_accuracy: 0.9313\n",
            "Epoch 26/50\n",
            "12/12 [==============================] - 0s 11ms/step - loss: 0.1749 - accuracy: 0.9463 - val_loss: 0.2277 - val_accuracy: 0.9359\n",
            "Epoch 27/50\n",
            "12/12 [==============================] - 0s 10ms/step - loss: 0.1682 - accuracy: 0.9435 - val_loss: 0.2629 - val_accuracy: 0.9225\n",
            "Epoch 28/50\n",
            "12/12 [==============================] - 0s 9ms/step - loss: 0.1887 - accuracy: 0.9377 - val_loss: 0.2273 - val_accuracy: 0.9317\n",
            "Epoch 29/50\n",
            "12/12 [==============================] - 0s 10ms/step - loss: 0.1825 - accuracy: 0.9411 - val_loss: 0.2307 - val_accuracy: 0.9347\n",
            "Epoch 30/50\n",
            "12/12 [==============================] - 0s 10ms/step - loss: 0.1634 - accuracy: 0.9490 - val_loss: 0.2430 - val_accuracy: 0.9284\n",
            "Epoch 31/50\n",
            "12/12 [==============================] - 0s 9ms/step - loss: 0.1579 - accuracy: 0.9487 - val_loss: 0.2437 - val_accuracy: 0.9372\n",
            "Epoch 32/50\n",
            "12/12 [==============================] - 0s 10ms/step - loss: 0.1616 - accuracy: 0.9483 - val_loss: 0.2225 - val_accuracy: 0.9363\n",
            "Epoch 33/50\n",
            "12/12 [==============================] - 0s 9ms/step - loss: 0.1669 - accuracy: 0.9460 - val_loss: 0.2601 - val_accuracy: 0.9288\n",
            "Epoch 34/50\n",
            "12/12 [==============================] - 0s 9ms/step - loss: 0.1534 - accuracy: 0.9481 - val_loss: 0.2288 - val_accuracy: 0.9389\n",
            "Epoch 35/50\n",
            "12/12 [==============================] - 0s 10ms/step - loss: 0.1404 - accuracy: 0.9560 - val_loss: 0.2093 - val_accuracy: 0.9414\n",
            "Epoch 36/50\n",
            "12/12 [==============================] - 0s 10ms/step - loss: 0.1453 - accuracy: 0.9524 - val_loss: 0.2205 - val_accuracy: 0.9368\n",
            "Epoch 37/50\n",
            "12/12 [==============================] - 0s 10ms/step - loss: 0.1449 - accuracy: 0.9537 - val_loss: 0.2462 - val_accuracy: 0.9284\n",
            "Epoch 38/50\n",
            "12/12 [==============================] - 0s 10ms/step - loss: 0.1493 - accuracy: 0.9523 - val_loss: 0.2557 - val_accuracy: 0.9338\n",
            "Epoch 39/50\n",
            "12/12 [==============================] - 0s 9ms/step - loss: 0.1539 - accuracy: 0.9505 - val_loss: 0.2407 - val_accuracy: 0.9292\n",
            "Epoch 40/50\n",
            "12/12 [==============================] - 0s 11ms/step - loss: 0.1477 - accuracy: 0.9497 - val_loss: 0.2160 - val_accuracy: 0.9397\n",
            "Epoch 41/50\n",
            "12/12 [==============================] - 0s 10ms/step - loss: 0.1434 - accuracy: 0.9541 - val_loss: 0.2222 - val_accuracy: 0.9376\n",
            "Epoch 42/50\n",
            "12/12 [==============================] - 0s 10ms/step - loss: 0.1373 - accuracy: 0.9557 - val_loss: 0.2444 - val_accuracy: 0.9238\n",
            "Epoch 43/50\n",
            "12/12 [==============================] - 0s 11ms/step - loss: 0.1501 - accuracy: 0.9496 - val_loss: 0.2086 - val_accuracy: 0.9451\n",
            "Epoch 44/50\n",
            "12/12 [==============================] - 0s 9ms/step - loss: 0.1324 - accuracy: 0.9537 - val_loss: 0.2137 - val_accuracy: 0.9477\n",
            "Epoch 45/50\n",
            "12/12 [==============================] - 0s 9ms/step - loss: 0.1250 - accuracy: 0.9580 - val_loss: 0.2194 - val_accuracy: 0.9430\n",
            "Epoch 46/50\n",
            "12/12 [==============================] - 0s 10ms/step - loss: 0.1287 - accuracy: 0.9600 - val_loss: 0.2371 - val_accuracy: 0.9313\n",
            "Epoch 47/50\n",
            "12/12 [==============================] - 0s 10ms/step - loss: 0.1271 - accuracy: 0.9578 - val_loss: 0.2165 - val_accuracy: 0.9426\n",
            "Epoch 48/50\n",
            "12/12 [==============================] - 0s 9ms/step - loss: 0.1274 - accuracy: 0.9578 - val_loss: 0.2130 - val_accuracy: 0.9418\n",
            "Epoch 49/50\n",
            "12/12 [==============================] - 0s 10ms/step - loss: 0.1155 - accuracy: 0.9591 - val_loss: 0.2793 - val_accuracy: 0.9229\n",
            "Epoch 50/50\n",
            "12/12 [==============================] - 0s 9ms/step - loss: 0.1316 - accuracy: 0.9567 - val_loss: 0.2249 - val_accuracy: 0.9389\n"
          ]
        }
      ]
    },
    {
      "cell_type": "code",
      "source": [
        "# evaluate the model\n",
        "\n",
        "scores = sub_model_multi.evaluate(test_inputs, test_y, verbose=0)\n",
        "\n",
        "scores\n",
        "\n",
        "# In results, first is loss, second is accuracy"
      ],
      "metadata": {
        "colab": {
          "base_uri": "https://localhost:8080/"
        },
        "id": "Z0901-p4Jjd5",
        "outputId": "f67efff8-0ae1-4d26-c0d5-04e254dd055c"
      },
      "execution_count": 136,
      "outputs": [
        {
          "output_type": "execute_result",
          "data": {
            "text/plain": [
              "[0.22491976618766785, 0.9388609528541565]"
            ]
          },
          "metadata": {},
          "execution_count": 136
        }
      ]
    },
    {
      "cell_type": "markdown",
      "source": [
        "# **Sub Model with more Hidden Layers (Optimizer: RMSprop)**"
      ],
      "metadata": {
        "id": "ZNLBrSHxOuYx"
      }
    },
    {
      "cell_type": "code",
      "source": [
        "#Defining the model: for multi-class\n",
        "\n",
        "sub_model_multi_1 = keras.models.Sequential()\n",
        "\n",
        "sub_model_multi_1.add(keras.layers.Input(shape=80))\n",
        "sub_model_multi_1.add(keras.layers.Dense(25, activation='relu'))\n",
        "sub_model_multi_1.add(keras.layers.Dense(75, activation='relu'))\n",
        "sub_model_multi_1.add(keras.layers.Dense(150, activation='relu'))\n",
        "sub_model_multi_1.add(keras.layers.Dense(75, activation='relu'))\n",
        "sub_model_multi_1.add(keras.layers.Dense(25, activation='relu'))\n",
        "sub_model_multi_1.add(keras.layers.Dense(5, activation='softmax'))\n",
        "#final layer: there has to be 5 nodes with softmax layer since we have 5 categories in the target label.\n"
      ],
      "metadata": {
        "id": "GgnRosRXJjhk"
      },
      "execution_count": 67,
      "outputs": []
    },
    {
      "cell_type": "code",
      "source": [
        "# Compile model\n",
        "\n",
        "#Optimizer using Adam optimizer\n",
        "adam = keras.optimizers.RMSprop(learning_rate=0.01)\n",
        "\n",
        "sub_model_multi_1.compile(loss='sparse_categorical_crossentropy', optimizer=adam, metrics=['accuracy'])"
      ],
      "metadata": {
        "id": "zS6AgSXvJjkr"
      },
      "execution_count": 68,
      "outputs": []
    },
    {
      "cell_type": "code",
      "source": [
        "# Fit the model\n",
        "\n",
        "history = sub_model_multi_1.fit(train_inputs, train_y, \n",
        "                    validation_data=(test_inputs, test_y), \n",
        "                    epochs=75, batch_size=500)"
      ],
      "metadata": {
        "colab": {
          "base_uri": "https://localhost:8080/"
        },
        "id": "qRM-cGCWPBR4",
        "outputId": "cd08f540-03d0-4d8a-ff47-d1dba146ff59"
      },
      "execution_count": 69,
      "outputs": [
        {
          "output_type": "stream",
          "name": "stdout",
          "text": [
            "Epoch 1/75\n",
            "12/12 [==============================] - 2s 51ms/step - loss: 1.3634 - accuracy: 0.4691 - val_loss: 1.0859 - val_accuracy: 0.6034\n",
            "Epoch 2/75\n",
            "12/12 [==============================] - 0s 18ms/step - loss: 1.1615 - accuracy: 0.5560 - val_loss: 1.1583 - val_accuracy: 0.4883\n",
            "Epoch 3/75\n",
            "12/12 [==============================] - 0s 23ms/step - loss: 1.0905 - accuracy: 0.5711 - val_loss: 0.8549 - val_accuracy: 0.6859\n",
            "Epoch 4/75\n",
            "12/12 [==============================] - 0s 23ms/step - loss: 0.8905 - accuracy: 0.6834 - val_loss: 0.8089 - val_accuracy: 0.7450\n",
            "Epoch 5/75\n",
            "12/12 [==============================] - 0s 22ms/step - loss: 0.9075 - accuracy: 0.7091 - val_loss: 0.6382 - val_accuracy: 0.7839\n",
            "Epoch 6/75\n",
            "12/12 [==============================] - 0s 16ms/step - loss: 0.9951 - accuracy: 0.6531 - val_loss: 0.7155 - val_accuracy: 0.7617\n",
            "Epoch 7/75\n",
            "12/12 [==============================] - 0s 14ms/step - loss: 0.6958 - accuracy: 0.7654 - val_loss: 0.9790 - val_accuracy: 0.6311\n",
            "Epoch 8/75\n",
            "12/12 [==============================] - 0s 19ms/step - loss: 0.7569 - accuracy: 0.7441 - val_loss: 0.7141 - val_accuracy: 0.7881\n",
            "Epoch 9/75\n",
            "12/12 [==============================] - 0s 16ms/step - loss: 0.6551 - accuracy: 0.7803 - val_loss: 0.5573 - val_accuracy: 0.8107\n",
            "Epoch 10/75\n",
            "12/12 [==============================] - 0s 22ms/step - loss: 0.7067 - accuracy: 0.7726 - val_loss: 0.5007 - val_accuracy: 0.8245\n",
            "Epoch 11/75\n",
            "12/12 [==============================] - 0s 16ms/step - loss: 0.6839 - accuracy: 0.7834 - val_loss: 0.5447 - val_accuracy: 0.8195\n",
            "Epoch 12/75\n",
            "12/12 [==============================] - 0s 20ms/step - loss: 0.6035 - accuracy: 0.7985 - val_loss: 0.5797 - val_accuracy: 0.8484\n",
            "Epoch 13/75\n",
            "12/12 [==============================] - 0s 20ms/step - loss: 0.6086 - accuracy: 0.7994 - val_loss: 0.4655 - val_accuracy: 0.8589\n",
            "Epoch 14/75\n",
            "12/12 [==============================] - 0s 25ms/step - loss: 0.5898 - accuracy: 0.8044 - val_loss: 0.5742 - val_accuracy: 0.8384\n",
            "Epoch 15/75\n",
            "12/12 [==============================] - 0s 18ms/step - loss: 0.5778 - accuracy: 0.8089 - val_loss: 0.5189 - val_accuracy: 0.8120\n",
            "Epoch 16/75\n",
            "12/12 [==============================] - 0s 13ms/step - loss: 0.5950 - accuracy: 0.7954 - val_loss: 0.7889 - val_accuracy: 0.7299\n",
            "Epoch 17/75\n",
            "12/12 [==============================] - 0s 15ms/step - loss: 0.5864 - accuracy: 0.8108 - val_loss: 0.6214 - val_accuracy: 0.7927\n",
            "Epoch 18/75\n",
            "12/12 [==============================] - 0s 20ms/step - loss: 0.5055 - accuracy: 0.8250 - val_loss: 0.5692 - val_accuracy: 0.8053\n",
            "Epoch 19/75\n",
            "12/12 [==============================] - 0s 14ms/step - loss: 0.5149 - accuracy: 0.8268 - val_loss: 0.5681 - val_accuracy: 0.8191\n",
            "Epoch 20/75\n",
            "12/12 [==============================] - 0s 16ms/step - loss: 0.5311 - accuracy: 0.8125 - val_loss: 0.6541 - val_accuracy: 0.7718\n",
            "Epoch 21/75\n",
            "12/12 [==============================] - 0s 16ms/step - loss: 0.4525 - accuracy: 0.8480 - val_loss: 0.5561 - val_accuracy: 0.8132\n",
            "Epoch 22/75\n",
            "12/12 [==============================] - 0s 16ms/step - loss: 0.5710 - accuracy: 0.8155 - val_loss: 0.5379 - val_accuracy: 0.8128\n",
            "Epoch 23/75\n",
            "12/12 [==============================] - 0s 14ms/step - loss: 0.4689 - accuracy: 0.8424 - val_loss: 0.4465 - val_accuracy: 0.8635\n",
            "Epoch 24/75\n",
            "12/12 [==============================] - 0s 20ms/step - loss: 0.4697 - accuracy: 0.8335 - val_loss: 0.5884 - val_accuracy: 0.8065\n",
            "Epoch 25/75\n",
            "12/12 [==============================] - 0s 25ms/step - loss: 0.4866 - accuracy: 0.8415 - val_loss: 0.7667 - val_accuracy: 0.7596\n",
            "Epoch 26/75\n",
            "12/12 [==============================] - 0s 22ms/step - loss: 0.4489 - accuracy: 0.8566 - val_loss: 0.4716 - val_accuracy: 0.8421\n",
            "Epoch 27/75\n",
            "12/12 [==============================] - 0s 18ms/step - loss: 0.4281 - accuracy: 0.8530 - val_loss: 0.3604 - val_accuracy: 0.8874\n",
            "Epoch 28/75\n",
            "12/12 [==============================] - 0s 26ms/step - loss: 0.5956 - accuracy: 0.8117 - val_loss: 0.5515 - val_accuracy: 0.8287\n",
            "Epoch 29/75\n",
            "12/12 [==============================] - 0s 18ms/step - loss: 0.4657 - accuracy: 0.8460 - val_loss: 0.4515 - val_accuracy: 0.8668\n",
            "Epoch 30/75\n",
            "12/12 [==============================] - 0s 21ms/step - loss: 0.3639 - accuracy: 0.8783 - val_loss: 0.3801 - val_accuracy: 0.8706\n",
            "Epoch 31/75\n",
            "12/12 [==============================] - 0s 20ms/step - loss: 0.3771 - accuracy: 0.8765 - val_loss: 0.4534 - val_accuracy: 0.8204\n",
            "Epoch 32/75\n",
            "12/12 [==============================] - 0s 18ms/step - loss: 0.4241 - accuracy: 0.8467 - val_loss: 0.4793 - val_accuracy: 0.8836\n",
            "Epoch 33/75\n",
            "12/12 [==============================] - 0s 20ms/step - loss: 0.3648 - accuracy: 0.8769 - val_loss: 0.4630 - val_accuracy: 0.8551\n",
            "Epoch 34/75\n",
            "12/12 [==============================] - 0s 17ms/step - loss: 0.4551 - accuracy: 0.8496 - val_loss: 0.4234 - val_accuracy: 0.8534\n",
            "Epoch 35/75\n",
            "12/12 [==============================] - 0s 21ms/step - loss: 0.3336 - accuracy: 0.8920 - val_loss: 0.5553 - val_accuracy: 0.8421\n",
            "Epoch 36/75\n",
            "12/12 [==============================] - 0s 17ms/step - loss: 0.4455 - accuracy: 0.8512 - val_loss: 0.4945 - val_accuracy: 0.8367\n",
            "Epoch 37/75\n",
            "12/12 [==============================] - 0s 26ms/step - loss: 0.3796 - accuracy: 0.8769 - val_loss: 0.3711 - val_accuracy: 0.8857\n",
            "Epoch 38/75\n",
            "12/12 [==============================] - 0s 23ms/step - loss: 0.3349 - accuracy: 0.8923 - val_loss: 0.9567 - val_accuracy: 0.7466\n",
            "Epoch 39/75\n",
            "12/12 [==============================] - 0s 18ms/step - loss: 0.4542 - accuracy: 0.8537 - val_loss: 0.4048 - val_accuracy: 0.8836\n",
            "Epoch 40/75\n",
            "12/12 [==============================] - 0s 22ms/step - loss: 0.3237 - accuracy: 0.8943 - val_loss: 0.5792 - val_accuracy: 0.8442\n",
            "Epoch 41/75\n",
            "12/12 [==============================] - 0s 29ms/step - loss: 0.3798 - accuracy: 0.8771 - val_loss: 0.7368 - val_accuracy: 0.7676\n",
            "Epoch 42/75\n",
            "12/12 [==============================] - 0s 25ms/step - loss: 0.3560 - accuracy: 0.8839 - val_loss: 0.4132 - val_accuracy: 0.8744\n",
            "Epoch 43/75\n",
            "12/12 [==============================] - 0s 19ms/step - loss: 0.3410 - accuracy: 0.8844 - val_loss: 0.3860 - val_accuracy: 0.8894\n",
            "Epoch 44/75\n",
            "12/12 [==============================] - 0s 19ms/step - loss: 0.3716 - accuracy: 0.8715 - val_loss: 0.3187 - val_accuracy: 0.9146\n",
            "Epoch 45/75\n",
            "12/12 [==============================] - 0s 22ms/step - loss: 0.2758 - accuracy: 0.9140 - val_loss: 0.4066 - val_accuracy: 0.8781\n",
            "Epoch 46/75\n",
            "12/12 [==============================] - 0s 19ms/step - loss: 0.3295 - accuracy: 0.8959 - val_loss: 0.3482 - val_accuracy: 0.9045\n",
            "Epoch 47/75\n",
            "12/12 [==============================] - 0s 19ms/step - loss: 0.3484 - accuracy: 0.8894 - val_loss: 0.3904 - val_accuracy: 0.8681\n",
            "Epoch 48/75\n",
            "12/12 [==============================] - 0s 18ms/step - loss: 0.2842 - accuracy: 0.9043 - val_loss: 0.3980 - val_accuracy: 0.8832\n",
            "Epoch 49/75\n",
            "12/12 [==============================] - 0s 23ms/step - loss: 0.4153 - accuracy: 0.8681 - val_loss: 0.3376 - val_accuracy: 0.9016\n",
            "Epoch 50/75\n",
            "12/12 [==============================] - 0s 23ms/step - loss: 0.2710 - accuracy: 0.9101 - val_loss: 0.4769 - val_accuracy: 0.8656\n",
            "Epoch 51/75\n",
            "12/12 [==============================] - 0s 20ms/step - loss: 0.3785 - accuracy: 0.8781 - val_loss: 0.2811 - val_accuracy: 0.9255\n",
            "Epoch 52/75\n",
            "12/12 [==============================] - 0s 20ms/step - loss: 0.2745 - accuracy: 0.9095 - val_loss: 0.4377 - val_accuracy: 0.8534\n",
            "Epoch 53/75\n",
            "12/12 [==============================] - 0s 29ms/step - loss: 0.2705 - accuracy: 0.9087 - val_loss: 0.5267 - val_accuracy: 0.8823\n",
            "Epoch 54/75\n",
            "12/12 [==============================] - 0s 20ms/step - loss: 0.3398 - accuracy: 0.8880 - val_loss: 0.3362 - val_accuracy: 0.9158\n",
            "Epoch 55/75\n",
            "12/12 [==============================] - 0s 19ms/step - loss: 0.2514 - accuracy: 0.9191 - val_loss: 0.5260 - val_accuracy: 0.8291\n",
            "Epoch 56/75\n",
            "12/12 [==============================] - 0s 22ms/step - loss: 0.3853 - accuracy: 0.8679 - val_loss: 0.2974 - val_accuracy: 0.9217\n",
            "Epoch 57/75\n",
            "12/12 [==============================] - 0s 27ms/step - loss: 0.2421 - accuracy: 0.9210 - val_loss: 0.3020 - val_accuracy: 0.9229\n",
            "Epoch 58/75\n",
            "12/12 [==============================] - 0s 22ms/step - loss: 0.3448 - accuracy: 0.8868 - val_loss: 0.3061 - val_accuracy: 0.9171\n",
            "Epoch 59/75\n",
            "12/12 [==============================] - 0s 22ms/step - loss: 0.2476 - accuracy: 0.9201 - val_loss: 0.3318 - val_accuracy: 0.9091\n",
            "Epoch 60/75\n",
            "12/12 [==============================] - 0s 18ms/step - loss: 0.2980 - accuracy: 0.9049 - val_loss: 0.4357 - val_accuracy: 0.8660\n",
            "Epoch 61/75\n",
            "12/12 [==============================] - 0s 21ms/step - loss: 0.2371 - accuracy: 0.9235 - val_loss: 0.6924 - val_accuracy: 0.7680\n",
            "Epoch 62/75\n",
            "12/12 [==============================] - 0s 26ms/step - loss: 0.3327 - accuracy: 0.8918 - val_loss: 0.4083 - val_accuracy: 0.8874\n",
            "Epoch 63/75\n",
            "12/12 [==============================] - 0s 20ms/step - loss: 0.2210 - accuracy: 0.9270 - val_loss: 0.3195 - val_accuracy: 0.9296\n",
            "Epoch 64/75\n",
            "12/12 [==============================] - 0s 22ms/step - loss: 0.3233 - accuracy: 0.8954 - val_loss: 0.2701 - val_accuracy: 0.9213\n",
            "Epoch 65/75\n",
            "12/12 [==============================] - 0s 23ms/step - loss: 0.2516 - accuracy: 0.9124 - val_loss: 0.3602 - val_accuracy: 0.9087\n",
            "Epoch 66/75\n",
            "12/12 [==============================] - 0s 22ms/step - loss: 0.2689 - accuracy: 0.9169 - val_loss: 0.4709 - val_accuracy: 0.8756\n",
            "Epoch 67/75\n",
            "12/12 [==============================] - 0s 21ms/step - loss: 0.2575 - accuracy: 0.9189 - val_loss: 0.3469 - val_accuracy: 0.9162\n",
            "Epoch 68/75\n",
            "12/12 [==============================] - 0s 22ms/step - loss: 0.2709 - accuracy: 0.9112 - val_loss: 0.3502 - val_accuracy: 0.8857\n",
            "Epoch 69/75\n",
            "12/12 [==============================] - 0s 17ms/step - loss: 0.2512 - accuracy: 0.9103 - val_loss: 0.3109 - val_accuracy: 0.9054\n",
            "Epoch 70/75\n",
            "12/12 [==============================] - 0s 20ms/step - loss: 0.1962 - accuracy: 0.9341 - val_loss: 0.4113 - val_accuracy: 0.8853\n",
            "Epoch 71/75\n",
            "12/12 [==============================] - 0s 16ms/step - loss: 0.5570 - accuracy: 0.8586 - val_loss: 0.3389 - val_accuracy: 0.8928\n",
            "Epoch 72/75\n",
            "12/12 [==============================] - 0s 16ms/step - loss: 0.1997 - accuracy: 0.9354 - val_loss: 0.3138 - val_accuracy: 0.9112\n",
            "Epoch 73/75\n",
            "12/12 [==============================] - 0s 15ms/step - loss: 0.1944 - accuracy: 0.9354 - val_loss: 0.2891 - val_accuracy: 0.9255\n",
            "Epoch 74/75\n",
            "12/12 [==============================] - 0s 16ms/step - loss: 0.2352 - accuracy: 0.9198 - val_loss: 0.2650 - val_accuracy: 0.9217\n",
            "Epoch 75/75\n",
            "12/12 [==============================] - 0s 16ms/step - loss: 0.2770 - accuracy: 0.9101 - val_loss: 0.3422 - val_accuracy: 0.9037\n"
          ]
        }
      ]
    },
    {
      "cell_type": "code",
      "source": [
        "# evaluate the model\n",
        "\n",
        "scores = sub_model_multi_1.evaluate(test_inputs, test_y, verbose=0)\n",
        "\n",
        "scores\n",
        "\n",
        "# In results, first is loss, second is accuracy"
      ],
      "metadata": {
        "colab": {
          "base_uri": "https://localhost:8080/"
        },
        "id": "0NMd2wubPBVC",
        "outputId": "e974d168-5331-427f-f212-5b57642f2eaf"
      },
      "execution_count": 137,
      "outputs": [
        {
          "output_type": "execute_result",
          "data": {
            "text/plain": [
              "[0.34219375252723694, 0.9036850929260254]"
            ]
          },
          "metadata": {},
          "execution_count": 137
        }
      ]
    },
    {
      "cell_type": "code",
      "source": [
        "# extract the accuracy from model.evaluate\n",
        "\n",
        "print(\"%s: %.2f\" % (sub_model_multi_1.metrics_names[0], scores[0]))\n",
        "print(\"%s: %.2f%%\" % (sub_model_multi_1.metrics_names[1], scores[1]*100))\n"
      ],
      "metadata": {
        "colab": {
          "base_uri": "https://localhost:8080/"
        },
        "id": "rNUDttDtPBXk",
        "outputId": "317b02ff-3699-402f-b761-4a8cce5263e8"
      },
      "execution_count": 138,
      "outputs": [
        {
          "output_type": "stream",
          "name": "stdout",
          "text": [
            "loss: 0.34\n",
            "accuracy: 90.37%\n"
          ]
        }
      ]
    },
    {
      "cell_type": "code",
      "source": [
        ""
      ],
      "metadata": {
        "id": "jOJ_FtDDPBZY"
      },
      "execution_count": 71,
      "outputs": []
    },
    {
      "cell_type": "code",
      "source": [
        ""
      ],
      "metadata": {
        "id": "oVLl3UJzPBfX"
      },
      "execution_count": 71,
      "outputs": []
    },
    {
      "cell_type": "markdown",
      "metadata": {
        "id": "_4cjqghvoUDc"
      },
      "source": [
        "# Build a sequential shallow LSTM Model (with only one LSTM layer) (2 points)"
      ]
    },
    {
      "cell_type": "markdown",
      "source": [
        "# Model 1"
      ],
      "metadata": {
        "id": "7exsmiY1RSfW"
      }
    },
    {
      "cell_type": "code",
      "source": [
        "#Convert input variables to a 2-D array with float data type\n",
        "train_x= np.array(train_inputs)\n",
        "test_x= np.array(test_inputs)\n",
        "\n",
        "train_x = train_x.astype(np.float32)\n",
        "test_x = test_x.astype(np.float32)\n",
        "\n",
        "train_y = np.array(train_y)\n",
        "train_y = np.reshape(train_y,(train_y.shape[0],))\n",
        "test_y = np.array(test_y)\n",
        "test_y = np.reshape(test_y,(test_y.shape[0],))\n",
        "\n",
        "train_y = train_y.astype(np.int32)\n",
        "test_y = test_y.astype(np.int32)"
      ],
      "metadata": {
        "id": "2EdiXM5xUjT8"
      },
      "execution_count": 90,
      "outputs": []
    },
    {
      "cell_type": "code",
      "source": [
        "#Keras expects a different input format:\n",
        "#Data needs to have 3 dimensions.\n",
        "#Here i am reshaping the data to the  sequence format for the LSTM   \n",
        "\n",
        "train_x = np.reshape(train_x, (train_x.shape[0], train_x.shape[1], 1))\n",
        "test_x = np.reshape(test_x, (test_x.shape[0], test_x.shape[1], 1))\n",
        "\n"
      ],
      "metadata": {
        "id": "76KN8WwSUjcV"
      },
      "execution_count": 92,
      "outputs": []
    },
    {
      "cell_type": "code",
      "source": [
        "#Getting the shapes of the data.\n",
        "\n",
        "train_x.shape, train_y.shape"
      ],
      "metadata": {
        "colab": {
          "base_uri": "https://localhost:8080/"
        },
        "id": "zIz4tbCiUjfa",
        "outputId": "931c3f40-c108-4b18-c3f2-6b37132e5e23"
      },
      "execution_count": 93,
      "outputs": [
        {
          "output_type": "execute_result",
          "data": {
            "text/plain": [
              "((5572, 80, 1), (5572,))"
            ]
          },
          "metadata": {},
          "execution_count": 93
        }
      ]
    },
    {
      "cell_type": "code",
      "source": [
        "#Getting the shapes of the data.\n",
        "\n",
        "test_x.shape, test_y.shape"
      ],
      "metadata": {
        "colab": {
          "base_uri": "https://localhost:8080/"
        },
        "id": "OyQAh0yYXFzt",
        "outputId": "0d35bd22-8a1e-4c56-c55d-7aea09dc24b2"
      },
      "execution_count": 94,
      "outputs": [
        {
          "output_type": "execute_result",
          "data": {
            "text/plain": [
              "((2388, 80, 1), (2388,))"
            ]
          },
          "metadata": {},
          "execution_count": 94
        }
      ]
    },
    {
      "cell_type": "code",
      "source": [
        "train_y"
      ],
      "metadata": {
        "colab": {
          "base_uri": "https://localhost:8080/"
        },
        "id": "c8depIfpZOZl",
        "outputId": "707e4a6f-513b-4260-b6ea-18bd8f529a14"
      },
      "execution_count": 95,
      "outputs": [
        {
          "output_type": "execute_result",
          "data": {
            "text/plain": [
              "array([4, 2, 0, ..., 0, 0, 0], dtype=int32)"
            ]
          },
          "metadata": {},
          "execution_count": 95
        }
      ]
    },
    {
      "cell_type": "code",
      "source": [
        ""
      ],
      "metadata": {
        "id": "AsxB2jOMNe66"
      },
      "execution_count": 109,
      "outputs": []
    },
    {
      "cell_type": "code",
      "source": [
        "# Defining the Call Backs\n",
        "\n",
        "from tensorflow.keras.callbacks import EarlyStopping\n",
        "\n",
        "earlystop = EarlyStopping(monitor='val_loss', patience=5, verbose=1, mode='auto')\n",
        "\n",
        "callback = [earlystop]"
      ],
      "metadata": {
        "id": "l2IYcz4xUji-"
      },
      "execution_count": 116,
      "outputs": []
    },
    {
      "cell_type": "code",
      "source": [
        ""
      ],
      "metadata": {
        "id": "nEMhMSh3NeIJ"
      },
      "execution_count": 116,
      "outputs": []
    },
    {
      "cell_type": "code",
      "execution_count": 127,
      "metadata": {
        "id": "bMHInsQNoUDc"
      },
      "outputs": [],
      "source": [
        "LSTM_model = keras.models.Sequential([\n",
        "    keras.layers.LSTM(10, activation=\"sigmoid\", input_shape=(80, 1)),\n",
        "])"
      ]
    },
    {
      "cell_type": "code",
      "execution_count": 129,
      "metadata": {
        "colab": {
          "base_uri": "https://localhost:8080/"
        },
        "id": "GCwoky6QoUDc",
        "outputId": "567afb72-9fe0-4841-c64f-9c0715b488cb"
      },
      "outputs": [
        {
          "output_type": "stream",
          "name": "stdout",
          "text": [
            "Epoch 1/20\n",
            "175/175 [==============================] - 8s 37ms/step - loss: -1.2171 - accuracy: 0.0000e+00 - val_loss: -1.3840 - val_accuracy: 0.0000e+00\n",
            "Epoch 2/20\n",
            "175/175 [==============================] - 8s 47ms/step - loss: -3.1187 - accuracy: 0.2134 - val_loss: -1.8547 - val_accuracy: 0.3120\n",
            "Epoch 3/20\n",
            "175/175 [==============================] - 5s 31ms/step - loss: -3.3037 - accuracy: 0.2809 - val_loss: -1.8506 - val_accuracy: 0.2571\n",
            "Epoch 4/20\n",
            "175/175 [==============================] - 6s 34ms/step - loss: -3.3027 - accuracy: 0.2662 - val_loss: -1.8654 - val_accuracy: 0.2458\n",
            "Epoch 5/20\n",
            "175/175 [==============================] - 5s 29ms/step - loss: -3.3107 - accuracy: 0.2441 - val_loss: -1.8671 - val_accuracy: 0.1897\n",
            "Epoch 6/20\n",
            "175/175 [==============================] - 5s 30ms/step - loss: -3.3196 - accuracy: 0.2225 - val_loss: -1.8965 - val_accuracy: 0.2064\n",
            "Epoch 7/20\n",
            "175/175 [==============================] - 5s 30ms/step - loss: -3.3307 - accuracy: 0.2053 - val_loss: -1.9140 - val_accuracy: 0.2106\n",
            "Epoch 8/20\n",
            "175/175 [==============================] - 6s 35ms/step - loss: -3.3429 - accuracy: 0.1872 - val_loss: -1.9333 - val_accuracy: 0.2098\n",
            "Epoch 9/20\n",
            "175/175 [==============================] - 7s 40ms/step - loss: -3.3572 - accuracy: 0.1875 - val_loss: -1.9536 - val_accuracy: 0.1792\n",
            "Epoch 10/20\n",
            "175/175 [==============================] - 5s 31ms/step - loss: -3.3764 - accuracy: 0.1818 - val_loss: -1.9716 - val_accuracy: 0.1993\n",
            "Epoch 11/20\n",
            "175/175 [==============================] - 5s 31ms/step - loss: -3.3967 - accuracy: 0.1849 - val_loss: -2.0003 - val_accuracy: 0.1922\n",
            "Epoch 12/20\n",
            "175/175 [==============================] - 5s 31ms/step - loss: -3.4161 - accuracy: 0.1700 - val_loss: -2.0173 - val_accuracy: 0.2391\n",
            "Epoch 13/20\n",
            "175/175 [==============================] - 5s 30ms/step - loss: -3.4381 - accuracy: 0.1807 - val_loss: -2.0746 - val_accuracy: 0.1696\n",
            "Epoch 14/20\n",
            "175/175 [==============================] - 6s 33ms/step - loss: -3.4605 - accuracy: 0.1617 - val_loss: -2.1053 - val_accuracy: 0.1562\n",
            "Epoch 15/20\n",
            "175/175 [==============================] - 10s 57ms/step - loss: -3.4803 - accuracy: 0.1653 - val_loss: -2.1180 - val_accuracy: 0.1930\n",
            "Epoch 16/20\n",
            "175/175 [==============================] - 9s 50ms/step - loss: -3.5065 - accuracy: 0.1608 - val_loss: -2.1547 - val_accuracy: 0.1704\n",
            "Epoch 17/20\n",
            "175/175 [==============================] - 8s 43ms/step - loss: -3.5310 - accuracy: 0.1705 - val_loss: -2.1873 - val_accuracy: 0.1876\n",
            "Epoch 18/20\n",
            "175/175 [==============================] - 5s 30ms/step - loss: -3.5523 - accuracy: 0.1604 - val_loss: -2.2305 - val_accuracy: 0.1604\n",
            "Epoch 19/20\n",
            "175/175 [==============================] - 6s 32ms/step - loss: -3.5783 - accuracy: 0.1578 - val_loss: -2.2526 - val_accuracy: 0.1738\n",
            "Epoch 20/20\n",
            "175/175 [==============================] - 5s 30ms/step - loss: -3.6003 - accuracy: 0.1644 - val_loss: -2.2899 - val_accuracy: 0.1591\n"
          ]
        }
      ],
      "source": [
        "optimizer = keras.optimizers.Nadam(learning_rate=0.01)\n",
        "\n",
        "LSTM_model.compile(loss=\"binary_crossentropy\", optimizer=optimizer, metrics=['accuracy'])\n",
        "\n",
        "history = LSTM_model.fit(train_x, train_y, epochs=20,\n",
        "                   validation_data = (test_x, test_y), callbacks=callback)"
      ]
    },
    {
      "cell_type": "code",
      "execution_count": 140,
      "metadata": {
        "colab": {
          "base_uri": "https://localhost:8080/"
        },
        "id": "mOUot1ZYoUDc",
        "outputId": "b7191d82-4a0c-40e3-f159-129b6871bd07"
      },
      "outputs": [
        {
          "output_type": "execute_result",
          "data": {
            "text/plain": [
              "[-2.2898786067962646, 0.15912897884845734]"
            ]
          },
          "metadata": {},
          "execution_count": 140
        }
      ],
      "source": [
        "# evaluate the model\n",
        "\n",
        "scores = LSTM_model.evaluate(test_x, test_y, verbose=0)\n",
        "\n",
        "scores\n",
        "\n",
        "# In results, first is loss, second is accuracy"
      ]
    },
    {
      "cell_type": "code",
      "source": [
        "# extract the accuracy from model.evaluate\n",
        "\n",
        "print(\"%s: %.2f\" % (LSTM_model.metrics_names[0], scores[0]))\n",
        "print(\"%s: %.2f%%\" % (LSTM_model.metrics_names[1], scores[1]*100))\n"
      ],
      "metadata": {
        "colab": {
          "base_uri": "https://localhost:8080/"
        },
        "id": "SVebSjyKQa-w",
        "outputId": "45a3271f-1f7e-46da-9786-fa9b59740087"
      },
      "execution_count": 139,
      "outputs": [
        {
          "output_type": "stream",
          "name": "stdout",
          "text": [
            "loss: 0.34\n",
            "accuracy: 90.37%\n"
          ]
        }
      ]
    },
    {
      "cell_type": "code",
      "source": [
        ""
      ],
      "metadata": {
        "id": "GZ7Vf7qmQbB9"
      },
      "execution_count": null,
      "outputs": []
    },
    {
      "cell_type": "code",
      "source": [
        ""
      ],
      "metadata": {
        "id": "25WdEuvWQbEz"
      },
      "execution_count": null,
      "outputs": []
    },
    {
      "cell_type": "code",
      "source": [
        ""
      ],
      "metadata": {
        "id": "a9CfG7RnQbHA"
      },
      "execution_count": null,
      "outputs": []
    },
    {
      "cell_type": "code",
      "source": [
        ""
      ],
      "metadata": {
        "id": "K0r0Gz-YQbP5"
      },
      "execution_count": null,
      "outputs": []
    },
    {
      "cell_type": "markdown",
      "metadata": {
        "id": "Phd8eh1LoUDc"
      },
      "source": [
        "# Build a sequential deep LSTM Model (with only two LSTM layers) (2 points)"
      ]
    },
    {
      "cell_type": "code",
      "execution_count": null,
      "metadata": {
        "id": "0d57x6MToUDc"
      },
      "outputs": [],
      "source": [
        ""
      ]
    },
    {
      "cell_type": "code",
      "execution_count": null,
      "metadata": {
        "id": "uNt6DYoZoUDc"
      },
      "outputs": [],
      "source": [
        ""
      ]
    },
    {
      "cell_type": "code",
      "execution_count": null,
      "metadata": {
        "id": "-AzeG7rloUDc"
      },
      "outputs": [],
      "source": [
        ""
      ]
    },
    {
      "cell_type": "markdown",
      "metadata": {
        "id": "gwMRyMrfoUDc"
      },
      "source": [
        "# Build a sequential shallow GRU Model (with only one GRU layer) (2 points)"
      ]
    },
    {
      "cell_type": "code",
      "execution_count": null,
      "metadata": {
        "id": "d9NauGCzoUDc"
      },
      "outputs": [],
      "source": [
        ""
      ]
    },
    {
      "cell_type": "code",
      "execution_count": null,
      "metadata": {
        "id": "Pll8_oEmoUDc"
      },
      "outputs": [],
      "source": [
        ""
      ]
    },
    {
      "cell_type": "code",
      "execution_count": null,
      "metadata": {
        "id": "9Fn5RxT7oUDc"
      },
      "outputs": [],
      "source": [
        ""
      ]
    },
    {
      "cell_type": "markdown",
      "metadata": {
        "id": "FV4y7wRUoUDc"
      },
      "source": [
        "# Build a sequential deep GRU Model (with only two GRU layers) (2 points)"
      ]
    },
    {
      "cell_type": "code",
      "execution_count": null,
      "metadata": {
        "id": "NaP0yY_PoUDc"
      },
      "outputs": [],
      "source": [
        ""
      ]
    },
    {
      "cell_type": "code",
      "execution_count": null,
      "metadata": {
        "id": "DF53rL9toUDc"
      },
      "outputs": [],
      "source": [
        ""
      ]
    },
    {
      "cell_type": "code",
      "execution_count": null,
      "metadata": {
        "id": "b_92e-y6oUDc"
      },
      "outputs": [],
      "source": [
        ""
      ]
    },
    {
      "cell_type": "markdown",
      "metadata": {
        "id": "Q0cicxKqoUDc"
      },
      "source": [
        "# Discussion"
      ]
    },
    {
      "cell_type": "markdown",
      "metadata": {
        "id": "Dxk69s4JoUDc"
      },
      "source": [
        "## List the test values of each model you built (0.5 points)"
      ]
    },
    {
      "cell_type": "raw",
      "metadata": {
        "id": "uMWz-urUoUDc"
      },
      "source": [
        ""
      ]
    },
    {
      "cell_type": "markdown",
      "metadata": {
        "id": "j7D_zamHoUDc"
      },
      "source": [
        "## Which model performs the best and why? (0.5 points) \n",
        "## How does it compare to baseline? (0.5 points)\n",
        "\n"
      ]
    },
    {
      "cell_type": "raw",
      "metadata": {
        "id": "KxEf-SHKoUDc"
      },
      "source": [
        ""
      ]
    }
  ],
  "metadata": {
    "kernelspec": {
      "display_name": "Python 3 (ipykernel)",
      "language": "python",
      "name": "python3"
    },
    "language_info": {
      "codemirror_mode": {
        "name": "ipython",
        "version": 3
      },
      "file_extension": ".py",
      "mimetype": "text/x-python",
      "name": "python",
      "nbconvert_exporter": "python",
      "pygments_lexer": "ipython3",
      "version": "3.9.7"
    },
    "toc": {
      "base_numbering": 1,
      "nav_menu": {},
      "number_sections": false,
      "sideBar": true,
      "skip_h1_title": true,
      "title_cell": "Table of Contents",
      "title_sidebar": "Contents",
      "toc_cell": false,
      "toc_position": {},
      "toc_section_display": true,
      "toc_window_display": false
    },
    "colab": {
      "name": "Assignment 3.ipynb",
      "provenance": [],
      "collapsed_sections": [],
      "include_colab_link": true
    }
  },
  "nbformat": 4,
  "nbformat_minor": 0
}